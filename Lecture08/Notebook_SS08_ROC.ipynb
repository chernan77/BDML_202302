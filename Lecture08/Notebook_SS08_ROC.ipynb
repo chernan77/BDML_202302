{
 "cells": [
  {
   "cell_type": "markdown",
   "id": "ef66f7ba",
   "metadata": {},
   "source": [
    "<div >\n",
    "<img src = \"../banner.jpg\" />\n",
    "</div>"
   ]
  },
  {
   "cell_type": "markdown",
   "id": "345432d0",
   "metadata": {},
   "source": [
    "<a target=\"_blank\" href=\"https://colab.research.google.com/github/ignaciomsarmiento//BDML_202302/blob/main/Lecture08/Notebook_SS08_ROC.ipynb\">\n",
    "  <img src=\"https://colab.research.google.com/assets/colab-badge.svg\" alt=\"Open In Colab\"/>\n",
    "</a>\n"
   ]
  },
  {
   "cell_type": "markdown",
   "id": "8e9c8c27",
   "metadata": {},
   "source": [
    "# Missclasification"
   ]
  },
  {
   "cell_type": "markdown",
   "id": "dc0f707b",
   "metadata": {},
   "source": [
    "To work through the steps of probability-based classification, we’ll use a real dataset on loans and credit from a set of local lenders in Germany (taken from the UC Irvine Machine Learning Repository and cleaned for our purposes). \n",
    "\n",
    "Credit scoring is a classic problem of classification, and it remains one of the big application domains for ML: use previous loan results (default versus payment) to train a model that can predict the performance of potential new loans.\n",
    "\n",
    "\\begin{align}\n",
    "Default=f(x) + u\n",
    "\\end{align}\n",
    "\n",
    "where $Default=I(Default=1)$\n",
    "\n"
   ]
  },
  {
   "cell_type": "code",
   "execution_count": null,
   "id": "49af46e1",
   "metadata": {},
   "outputs": [],
   "source": [
    "#Cargar librerías \n",
    "require(\"pacman\")\n",
    "p_load(\"tidyverse\")\n"
   ]
  },
  {
   "cell_type": "code",
   "execution_count": null,
   "id": "91c4c5d3",
   "metadata": {},
   "outputs": [],
   "source": [
    "#Leer los datos \n",
    "credit <- readRDS(url(\"https://github.com/ignaciomsarmiento/datasets/blob/main/credit_class.rds?raw=true\"))\n",
    "#mutacion de factores\n",
    "credit<-credit %>% mutate(Default=factor(Default,levels=c(1,0),labels=c(\"Si\",\"No\")),\n",
    "                          history=factor(history,levels=c(\"good\",\"poor\",\"terrible\"),labels=c(\"buena\",\"mala\",\"terrible\")),\n",
    "                          foreign=factor(foreign,levels=c(\"foreign\",\"german\"),labels=c(\"extranjero\",\"aleman\")),\n",
    "                          purpose=factor(purpose,levels=c(\"newcar\",\"usedcar\",\"goods/repair\",\"edu\", \"biz\" ),labels=c(\"auto_nuevo\",\"auto_usado\",\"bienes\",\"educacion\",\"negocios\")))         \n",
    "\n",
    "head(credit)"
   ]
  },
  {
   "cell_type": "code",
   "execution_count": null,
   "id": "259abd36",
   "metadata": {},
   "outputs": [],
   "source": [
    "prop.table(table(credit$Default))"
   ]
  },
  {
   "cell_type": "markdown",
   "id": "3a57b56a",
   "metadata": {},
   "source": [
    "## Preparar la base\n",
    "### División de la muestra\n",
    "\n",
    "- El objetivo es predecir bien fuera de muestra\n",
    "\n",
    "- No queremos sobreajustar a la muestra\n",
    "  \n",
    "- Vamos a definir 2 bases\n",
    "\n",
    "  - Muestra de entrenamiento: vamos a estimar los modelos, buscar parámetros, etc.\n",
    "  \n",
    "  -  Muestra de prueba que solo vamos a usar para evaluar los modelos\n"
   ]
  },
  {
   "cell_type": "code",
   "execution_count": null,
   "id": "64b2520f",
   "metadata": {},
   "outputs": [],
   "source": [
    "## First, split the training set \n",
    "set.seed(1011)\n",
    "p_load(\"caret\")\n",
    "\n",
    "inTrain <- createDataPartition(\n",
    "  y = credit$Default,## La variable dependiente u objetivo \n",
    "  p = .7, ## Usamos 70%  de los datos en el conjunto de entrenamiento \n",
    "  list = FALSE)\n",
    "\n",
    "\n",
    "train <- credit[ inTrain,]\n",
    "test  <- credit[-inTrain,]"
   ]
  },
  {
   "cell_type": "markdown",
   "id": "9c900123",
   "metadata": {},
   "source": [
    "## Accuracy"
   ]
  },
  {
   "cell_type": "code",
   "execution_count": null,
   "id": "0c3484ff",
   "metadata": {},
   "outputs": [],
   "source": [
    "ctrl<- trainControl(method = \"cv\",\n",
    "                    number = 5,\n",
    "                    classProbs = TRUE,\n",
    "                    savePredictions = T)\n"
   ]
  },
  {
   "cell_type": "code",
   "execution_count": null,
   "id": "b75044b4",
   "metadata": {},
   "outputs": [],
   "source": [
    "set.seed(123)\n",
    "\n",
    "class_ranger <- train(\n",
    "    Default~duration+amount+installment+age+history + purpose+foreign+rent,\n",
    "    data=train,\n",
    "    metric = \"Accuracy\",\n",
    "    method = \"ranger\",\n",
    "    trControl = ctrl,\n",
    "    tuneGrid=expand.grid(\n",
    "              mtry = c(1,2,3,4,5,6,7,8),\n",
    "              splitrule = \"gini\",\n",
    "               min.node.size = c(25,50,150,200,250))\n",
    ")\n"
   ]
  },
  {
   "cell_type": "code",
   "execution_count": null,
   "id": "f684916f",
   "metadata": {},
   "outputs": [],
   "source": [
    "class_ranger"
   ]
  },
  {
   "cell_type": "code",
   "execution_count": null,
   "id": "b7455212",
   "metadata": {},
   "outputs": [],
   "source": [
    "predictSample <- train   %>% \n",
    "    mutate(hat_default = predict(class_ranger, newdata = train, type = \"raw\")    ## predicted class labels\n",
    ")  %>% select(Default,hat_default)\n",
    "\n",
    "head(predictSample)"
   ]
  },
  {
   "cell_type": "code",
   "execution_count": null,
   "id": "d1ff2220",
   "metadata": {},
   "outputs": [],
   "source": [
    "confusionMatrix(data = predictSample$hat_default, reference = predictSample$Default)"
   ]
  },
  {
   "cell_type": "code",
   "execution_count": null,
   "id": "7002d169",
   "metadata": {},
   "outputs": [],
   "source": [
    "# Accuracy\n",
    "mean(predictSample$Default==predictSample$hat_default)"
   ]
  },
  {
   "cell_type": "code",
   "execution_count": null,
   "id": "f402a271",
   "metadata": {},
   "outputs": [],
   "source": [
    "predictTest <- data.frame(\n",
    "  Default = test$Default,                                    ## observed class labels\n",
    "  hat_default = predict(class_ranger, newdata = test, type = \"raw\")    ## predicted class labels\n",
    ")\n"
   ]
  },
  {
   "cell_type": "code",
   "execution_count": null,
   "id": "1dda7df9",
   "metadata": {},
   "outputs": [],
   "source": [
    "confusionMatrix(data = predictTest$hat_default, reference = predictTest$Default)"
   ]
  },
  {
   "cell_type": "markdown",
   "id": "5fc562bf",
   "metadata": {},
   "source": [
    "## True Positive Rate"
   ]
  },
  {
   "cell_type": "markdown",
   "id": "aaab8c2f",
   "metadata": {},
   "source": [
    "\n",
    "Podemos tratar te maximizar el TPR\n",
    "\n",
    "\n",
    "\\begin{align}\n",
    "     True\\,Positive\\,Rate=Sensitivity&=\\frac{True \\,\\,Positives}{Positives} \n",
    "  \\end{align}\n",
    "  \n",
    "  \\begin{align}\n",
    "        Specificity&=\\frac{True\\,\\,Negatives}{Negatives} \\nonumber \n",
    "  \\end{align}\n",
    "  \n",
    "\\begin{align}\n",
    "     False\\,Positive\\,Rate= 1-Specificity&=\\frac{False\\,\\,Positives}{Negatives} \\nonumber \n",
    "  \\end{align}\n",
    "\n",
    "\n"
   ]
  },
  {
   "cell_type": "code",
   "execution_count": null,
   "id": "37f041cd",
   "metadata": {},
   "outputs": [],
   "source": [
    "\n",
    "ctrl2<- trainControl(method = \"cv\",\n",
    "                     number = 5,\n",
    "                     summaryFunction = twoClassSummary,\n",
    "                     classProbs = TRUE,\n",
    "                     savePredictions = T)\n"
   ]
  },
  {
   "cell_type": "code",
   "execution_count": null,
   "id": "826f8293",
   "metadata": {},
   "outputs": [],
   "source": [
    "set.seed(123)\n",
    "\n",
    "class_ranger_sens <- train(\n",
    "    Default~duration+amount+installment+age+history + purpose+foreign+rent,\n",
    "    data=train,\n",
    "    metric = \"Sens\",\n",
    "    method = \"ranger\",\n",
    "    trControl = ctrl2,\n",
    "    tuneGrid=expand.grid(\n",
    "              mtry = c(1,2,3,4,5,6,7,8),\n",
    "              splitrule = \"gini\",\n",
    "               min.node.size = c(25,50,150,200,250))\n",
    ")"
   ]
  },
  {
   "cell_type": "code",
   "execution_count": null,
   "id": "6978a7b9",
   "metadata": {},
   "outputs": [],
   "source": [
    "class_ranger_sens"
   ]
  },
  {
   "cell_type": "code",
   "execution_count": null,
   "id": "e2813a49",
   "metadata": {},
   "outputs": [],
   "source": [
    "predictTest<- test   %>% \n",
    "    mutate(hat_default_sens = predict(class_ranger_sens, newdata = test, type = \"raw\")    ## predicted class labels\n",
    ")  %>% select(Default,hat_default_sens)\n"
   ]
  },
  {
   "cell_type": "code",
   "execution_count": null,
   "id": "3966e954",
   "metadata": {},
   "outputs": [],
   "source": [
    "confusionMatrix(data = predictTest$hat_default, reference = predictTest$Default)"
   ]
  },
  {
   "cell_type": "markdown",
   "id": "a782b0c7",
   "metadata": {},
   "source": [
    "\n",
    "\\begin{align}\n",
    "     True\\,Positive\\,Rate=Sensitivity&=\\frac{True \\,\\,Positives}{Positives} \n",
    "  \\end{align}\n",
    "  \n",
    "  \\begin{align}\n",
    "        Specificity&=\\frac{True\\,\\,Negatives}{Negatives} \\nonumber \n",
    "  \\end{align}\n",
    "  \n",
    "\\begin{align}\n",
    "     False\\,Positive\\,Rate= 1-Specificity&=\\frac{False\\,\\,Positives}{Negatives} \\nonumber \n",
    "  \\end{align}"
   ]
  },
  {
   "cell_type": "markdown",
   "id": "9a9e8928",
   "metadata": {},
   "source": [
    "## ROC"
   ]
  },
  {
   "cell_type": "code",
   "execution_count": null,
   "id": "a1ee9fd3",
   "metadata": {},
   "outputs": [],
   "source": [
    "set.seed(123)\n",
    "\n",
    "class_ranger_ROC <- train(\n",
    "    Default~duration+amount+installment+age+history + purpose+foreign+rent,\n",
    "    data=train,\n",
    "    metric = \"ROC\",\n",
    "     method = \"ranger\",\n",
    "    trControl = ctrl2,\n",
    "    tuneGrid=expand.grid(\n",
    "              mtry = c(1,2,3,4,5,6,7,8),\n",
    "              splitrule = \"gini\",\n",
    "               min.node.size = c(25,50,150,200,250))\n",
    ")"
   ]
  },
  {
   "cell_type": "code",
   "execution_count": null,
   "id": "4fc630e8",
   "metadata": {},
   "outputs": [],
   "source": [
    "class_ranger_ROC"
   ]
  },
  {
   "cell_type": "code",
   "execution_count": null,
   "id": "3a0bfd14",
   "metadata": {},
   "outputs": [],
   "source": [
    "predictTest <- predictTest  %>% \n",
    "    mutate(class_ROC = predict(class_ranger_ROC, newdata = test, type = \"raw\"), # predicted class labels\n",
    "           p_hat_ROC=predict(class_ranger_ROC, newdata = test, type = \"prob\")$Si,         ## predicted class probabilities#\n",
    "           Default_num=ifelse(Default==\"No\",0,1)\n",
    ")\n",
    "\n",
    "head(predictTest)"
   ]
  },
  {
   "cell_type": "code",
   "execution_count": null,
   "id": "5ef4bc5a",
   "metadata": {},
   "outputs": [],
   "source": [
    "confusionMatrix(data = predictTest$class_ROC, reference = predictTest$Default)"
   ]
  },
  {
   "cell_type": "code",
   "execution_count": null,
   "id": "2fb3e94a",
   "metadata": {},
   "outputs": [],
   "source": [
    "p_load(\"pROC\")\n",
    "rfROC <- roc(predictTest$Default, predictTest$p_hat_ROC, levels = rev(levels(predictTest$Default)))\n",
    "rfROC"
   ]
  },
  {
   "cell_type": "code",
   "execution_count": null,
   "id": "a7ab3f63",
   "metadata": {},
   "outputs": [],
   "source": [
    "plot(rfROC)"
   ]
  },
  {
   "cell_type": "code",
   "execution_count": null,
   "id": "11d6c408",
   "metadata": {},
   "outputs": [],
   "source": [
    "FPR<-mean(predictTest$class_ROC[predictTest$Default==\"No\"]==\"No\")\n",
    "TPR<-mean(predictTest$class_ROC[predictTest$Default==\"Si\"]==\"Si\")"
   ]
  },
  {
   "cell_type": "code",
   "execution_count": null,
   "id": "f904eb6f",
   "metadata": {},
   "outputs": [],
   "source": [
    "plot(rfROC)\n",
    "points(x= FPR, \n",
    "       y=TPR, \n",
    "       cex=4, pch=20, col='red') "
   ]
  },
  {
   "cell_type": "code",
   "execution_count": null,
   "id": "979209a9",
   "metadata": {},
   "outputs": [],
   "source": [
    "predictTest <- predictTest  %>% \n",
    "    mutate(class_ROC_2 = factor(ifelse(p_hat_ROC>.2,\"Si\",\"No\"),levels=c(\"Si\",\"No\"))\n",
    ")"
   ]
  },
  {
   "cell_type": "code",
   "execution_count": null,
   "id": "60fb754e",
   "metadata": {},
   "outputs": [],
   "source": [
    "confusionMatrix(data = predictTest$class_ROC_2, reference = predictTest$Default)"
   ]
  },
  {
   "cell_type": "code",
   "execution_count": null,
   "id": "53879cbb",
   "metadata": {},
   "outputs": [],
   "source": [
    "FPR_2<-mean(predictTest$class_ROC_2[predictTest$Default==\"No\"]==\"No\")\n",
    "TPR_2<-mean(predictTest$class_ROC_2[predictTest$Default==\"Si\"]==\"Si\")\n"
   ]
  },
  {
   "cell_type": "code",
   "execution_count": null,
   "id": "dec09137",
   "metadata": {},
   "outputs": [],
   "source": [
    "plot(rfROC, print.auc=TRUE,legacy.axes=TRUE)\n",
    "## our .5 rule cutoff\n",
    "points(x= FPR, \n",
    "       y=TPR, \n",
    "       cex=4, pch=20, col='red') \n",
    "## A .2 rule cutoff\n",
    "points(x= FPR_2, \n",
    "       y=TPR_2, \n",
    "       cex=4, pch=20, col='blue') \n",
    "legend(\"bottomright\",fill=c(\"red\",\"blue\"), legend=c(\"p=1/2\",\"p=1/5\"),bty=\"n\",title=\"cutoff\")"
   ]
  },
  {
   "cell_type": "markdown",
   "id": "c758d559",
   "metadata": {},
   "source": [
    "### Closest to top left cutoff"
   ]
  },
  {
   "cell_type": "markdown",
   "id": "dfc409ab",
   "metadata": {},
   "source": [
    "Otro enfoque es encontrar el punto en la curva ROC que está más cerca (es decir, la distancia más corta) al modelo perfecto (con 100\\% de sensibilidad y 100\\% de especificidad), que está asociado con la esquina superior izquierda de la gráfica."
   ]
  },
  {
   "cell_type": "code",
   "execution_count": null,
   "id": "c6e3aa27",
   "metadata": {},
   "outputs": [],
   "source": [
    "rfThresh <- coords(rfROC, x = \"best\", best.method = \"closest.topleft\")\n",
    "rfThresh"
   ]
  },
  {
   "cell_type": "code",
   "execution_count": null,
   "id": "22af3e2c",
   "metadata": {},
   "outputs": [],
   "source": [
    "predictTest <- predictTest  %>% \n",
    "    mutate(class_ROC_Thresh = factor(ifelse(p_hat_ROC>rfThresh$threshold,\"Si\",\"No\"),levels=c(\"Si\",\"No\"))\n",
    ")"
   ]
  },
  {
   "cell_type": "code",
   "execution_count": null,
   "id": "a5d14feb",
   "metadata": {},
   "outputs": [],
   "source": [
    "confusionMatrix(data = predictTest$class_ROC_Thresh, reference = predictTest$Default)"
   ]
  },
  {
   "cell_type": "code",
   "execution_count": null,
   "id": "9fb43260",
   "metadata": {},
   "outputs": [],
   "source": [
    "FPR_3<-mean(predictTest$class_ROC_Thresh[predictTest$Default==\"No\"]==\"No\")\n",
    "TPR_3<-mean(predictTest$class_ROC_Thresh[predictTest$Default==\"Si\"]==\"Si\")\n"
   ]
  },
  {
   "cell_type": "code",
   "execution_count": null,
   "id": "36981d02",
   "metadata": {},
   "outputs": [],
   "source": [
    "plot(rfROC, print.auc=TRUE,legacy.axes=TRUE)\n",
    "## our .5 rule cutoff\n",
    "points(x= FPR, \n",
    "       y=TPR, \n",
    "       cex=4, pch=20, col='red') \n",
    "## A optimal threshold\n",
    "points(x= FPR_3, \n",
    "       y=TPR_3, \n",
    "       cex=4, pch=20, col='green') \n",
    "legend(\"bottomright\",fill=c(\"red\",\"green\"), legend=c(\"p=1/2\",\"p=Top Left\"),bty=\"n\",title=\"cutoff\")"
   ]
  },
  {
   "cell_type": "code",
   "execution_count": null,
   "id": "2f7ccbd7",
   "metadata": {},
   "outputs": [],
   "source": []
  }
 ],
 "metadata": {
  "kernelspec": {
   "display_name": "R",
   "language": "R",
   "name": "ir"
  },
  "language_info": {
   "codemirror_mode": "r",
   "file_extension": ".r",
   "mimetype": "text/x-r-source",
   "name": "R",
   "pygments_lexer": "r",
   "version": "4.3.0"
  },
  "toc": {
   "base_numbering": 1,
   "nav_menu": {},
   "number_sections": true,
   "sideBar": true,
   "skip_h1_title": false,
   "title_cell": "Table of Contents",
   "title_sidebar": "Contents",
   "toc_cell": false,
   "toc_position": {
    "height": "calc(100% - 180px)",
    "left": "10px",
    "top": "150px",
    "width": "307px"
   },
   "toc_section_display": true,
   "toc_window_display": false
  }
 },
 "nbformat": 4,
 "nbformat_minor": 5
}
