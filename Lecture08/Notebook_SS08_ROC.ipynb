{
 "cells": [
  {
   "cell_type": "markdown",
   "id": "ef66f7ba",
   "metadata": {},
   "source": [
    "<div >\n",
    "<img src = \"../banner.jpg\" />\n",
    "</div>"
   ]
  },
  {
   "cell_type": "markdown",
   "id": "345432d0",
   "metadata": {},
   "source": [
    "<a target=\"_blank\" href=\"https://colab.research.google.com/github/ignaciomsarmiento//BDML_202302/blob/main/Lecture08/Notebook_SS08_ROC.ipynb\">\n",
    "  <img src=\"https://colab.research.google.com/assets/colab-badge.svg\" alt=\"Open In Colab\"/>\n",
    "</a>\n"
   ]
  },
  {
   "cell_type": "markdown",
   "id": "8e9c8c27",
   "metadata": {},
   "source": [
    "# Missclasification"
   ]
  },
  {
   "cell_type": "markdown",
   "id": "dc0f707b",
   "metadata": {},
   "source": [
    "To work through the steps of probability-based classification, we’ll use a real dataset on loans and credit from a set of local lenders in Germany (taken from the UC Irvine Machine Learning Repository and cleaned for our purposes). \n",
    "\n",
    "Credit scoring is a classic problem of classification, and it remains one of the big application domains for ML: use previous loan results (default versus payment) to train a model that can predict the performance of potential new loans.\n",
    "\n",
    "\\begin{align}\n",
    "Default=f(x) + u\n",
    "\\end{align}\n",
    "\n",
    "where $Default=I(Default=1)$\n",
    "\n"
   ]
  },
  {
   "cell_type": "code",
   "execution_count": 1,
   "id": "49af46e1",
   "metadata": {},
   "outputs": [
    {
     "name": "stderr",
     "output_type": "stream",
     "text": [
      "Loading required package: pacman\n",
      "\n"
     ]
    }
   ],
   "source": [
    "#Cargar librerías \n",
    "require(\"pacman\")\n",
    "p_load(\"tidyverse\")\n"
   ]
  },
  {
   "cell_type": "code",
   "execution_count": 2,
   "id": "91c4c5d3",
   "metadata": {},
   "outputs": [
    {
     "data": {
      "text/html": [
       "<table class=\"dataframe\">\n",
       "<caption>A data.frame: 6 × 9</caption>\n",
       "<thead>\n",
       "\t<tr><th></th><th scope=col>Default</th><th scope=col>duration</th><th scope=col>amount</th><th scope=col>installment</th><th scope=col>age</th><th scope=col>history</th><th scope=col>purpose</th><th scope=col>foreign</th><th scope=col>rent</th></tr>\n",
       "\t<tr><th></th><th scope=col>&lt;fct&gt;</th><th scope=col>&lt;int&gt;</th><th scope=col>&lt;int&gt;</th><th scope=col>&lt;int&gt;</th><th scope=col>&lt;int&gt;</th><th scope=col>&lt;fct&gt;</th><th scope=col>&lt;fct&gt;</th><th scope=col>&lt;fct&gt;</th><th scope=col>&lt;fct&gt;</th></tr>\n",
       "</thead>\n",
       "<tbody>\n",
       "\t<tr><th scope=row>1</th><td>No</td><td> 6</td><td>1169</td><td>4</td><td>67</td><td>terrible</td><td>bienes    </td><td>extranjero</td><td>FALSE</td></tr>\n",
       "\t<tr><th scope=row>2</th><td>Si</td><td>48</td><td>5951</td><td>2</td><td>22</td><td>mala    </td><td>bienes    </td><td>extranjero</td><td>FALSE</td></tr>\n",
       "\t<tr><th scope=row>3</th><td>No</td><td>12</td><td>2096</td><td>2</td><td>49</td><td>terrible</td><td>educacion </td><td>extranjero</td><td>FALSE</td></tr>\n",
       "\t<tr><th scope=row>4</th><td>No</td><td>42</td><td>7882</td><td>2</td><td>45</td><td>mala    </td><td>bienes    </td><td>extranjero</td><td>FALSE</td></tr>\n",
       "\t<tr><th scope=row>5</th><td>Si</td><td>24</td><td>4870</td><td>3</td><td>53</td><td>mala    </td><td>auto_nuevo</td><td>extranjero</td><td>FALSE</td></tr>\n",
       "\t<tr><th scope=row>6</th><td>No</td><td>36</td><td>9055</td><td>2</td><td>35</td><td>mala    </td><td>educacion </td><td>extranjero</td><td>FALSE</td></tr>\n",
       "</tbody>\n",
       "</table>\n"
      ],
      "text/latex": [
       "A data.frame: 6 × 9\n",
       "\\begin{tabular}{r|lllllllll}\n",
       "  & Default & duration & amount & installment & age & history & purpose & foreign & rent\\\\\n",
       "  & <fct> & <int> & <int> & <int> & <int> & <fct> & <fct> & <fct> & <fct>\\\\\n",
       "\\hline\n",
       "\t1 & No &  6 & 1169 & 4 & 67 & terrible & bienes     & extranjero & FALSE\\\\\n",
       "\t2 & Si & 48 & 5951 & 2 & 22 & mala     & bienes     & extranjero & FALSE\\\\\n",
       "\t3 & No & 12 & 2096 & 2 & 49 & terrible & educacion  & extranjero & FALSE\\\\\n",
       "\t4 & No & 42 & 7882 & 2 & 45 & mala     & bienes     & extranjero & FALSE\\\\\n",
       "\t5 & Si & 24 & 4870 & 3 & 53 & mala     & auto\\_nuevo & extranjero & FALSE\\\\\n",
       "\t6 & No & 36 & 9055 & 2 & 35 & mala     & educacion  & extranjero & FALSE\\\\\n",
       "\\end{tabular}\n"
      ],
      "text/markdown": [
       "\n",
       "A data.frame: 6 × 9\n",
       "\n",
       "| <!--/--> | Default &lt;fct&gt; | duration &lt;int&gt; | amount &lt;int&gt; | installment &lt;int&gt; | age &lt;int&gt; | history &lt;fct&gt; | purpose &lt;fct&gt; | foreign &lt;fct&gt; | rent &lt;fct&gt; |\n",
       "|---|---|---|---|---|---|---|---|---|---|\n",
       "| 1 | No |  6 | 1169 | 4 | 67 | terrible | bienes     | extranjero | FALSE |\n",
       "| 2 | Si | 48 | 5951 | 2 | 22 | mala     | bienes     | extranjero | FALSE |\n",
       "| 3 | No | 12 | 2096 | 2 | 49 | terrible | educacion  | extranjero | FALSE |\n",
       "| 4 | No | 42 | 7882 | 2 | 45 | mala     | bienes     | extranjero | FALSE |\n",
       "| 5 | Si | 24 | 4870 | 3 | 53 | mala     | auto_nuevo | extranjero | FALSE |\n",
       "| 6 | No | 36 | 9055 | 2 | 35 | mala     | educacion  | extranjero | FALSE |\n",
       "\n"
      ],
      "text/plain": [
       "  Default duration amount installment age history  purpose    foreign    rent \n",
       "1 No       6       1169   4           67  terrible bienes     extranjero FALSE\n",
       "2 Si      48       5951   2           22  mala     bienes     extranjero FALSE\n",
       "3 No      12       2096   2           49  terrible educacion  extranjero FALSE\n",
       "4 No      42       7882   2           45  mala     bienes     extranjero FALSE\n",
       "5 Si      24       4870   3           53  mala     auto_nuevo extranjero FALSE\n",
       "6 No      36       9055   2           35  mala     educacion  extranjero FALSE"
      ]
     },
     "metadata": {},
     "output_type": "display_data"
    }
   ],
   "source": [
    "#Leer los datos \n",
    "credit <- readRDS(url(\"https://github.com/ignaciomsarmiento/datasets/blob/main/credit_class.rds?raw=true\"))\n",
    "#mutacion de factores\n",
    "credit<-credit %>% mutate(Default=factor(Default,levels=c(1,0),labels=c(\"Si\",\"No\")),\n",
    "                          history=factor(history,levels=c(\"good\",\"poor\",\"terrible\"),labels=c(\"buena\",\"mala\",\"terrible\")),\n",
    "                          foreign=factor(foreign,levels=c(\"foreign\",\"german\"),labels=c(\"extranjero\",\"aleman\")),\n",
    "                          purpose=factor(purpose,levels=c(\"newcar\",\"usedcar\",\"goods/repair\",\"edu\", \"biz\" ),labels=c(\"auto_nuevo\",\"auto_usado\",\"bienes\",\"educacion\",\"negocios\")))         \n",
    "\n",
    "head(credit)"
   ]
  },
  {
   "cell_type": "code",
   "execution_count": 3,
   "id": "259abd36",
   "metadata": {},
   "outputs": [
    {
     "data": {
      "text/plain": [
       "\n",
       " Si  No \n",
       "0.3 0.7 "
      ]
     },
     "metadata": {},
     "output_type": "display_data"
    }
   ],
   "source": [
    "prop.table(table(credit$Default))"
   ]
  },
  {
   "cell_type": "markdown",
   "id": "3a57b56a",
   "metadata": {},
   "source": [
    "## Preparar la base\n",
    "### División de la muestra\n",
    "\n",
    "- El objetivo es predecir bien fuera de muestra\n",
    "\n",
    "- No queremos sobreajustar a la muestra\n",
    "  \n",
    "- Vamos a definir 2 bases\n",
    "\n",
    "  - Muestra de entrenamiento: vamos a estimar los modelos, buscar parámetros, etc.\n",
    "  \n",
    "  -  Muestra de prueba que solo vamos a usar para evaluar los modelos\n"
   ]
  },
  {
   "cell_type": "code",
   "execution_count": 4,
   "id": "64b2520f",
   "metadata": {},
   "outputs": [],
   "source": [
    "## First, split the training set \n",
    "set.seed(1011)\n",
    "p_load(\"caret\")\n",
    "\n",
    "inTrain <- createDataPartition(\n",
    "  y = credit$Default,## La variable dependiente u objetivo \n",
    "  p = .7, ## Usamos 70%  de los datos en el conjunto de entrenamiento \n",
    "  list = FALSE)\n",
    "\n",
    "\n",
    "train <- credit[ inTrain,]\n",
    "test  <- credit[-inTrain,]"
   ]
  },
  {
   "cell_type": "markdown",
   "id": "9c900123",
   "metadata": {},
   "source": [
    "## Accuracy"
   ]
  },
  {
   "cell_type": "code",
   "execution_count": 5,
   "id": "0c3484ff",
   "metadata": {},
   "outputs": [],
   "source": [
    "ctrl<- trainControl(method = \"cv\",\n",
    "                    number = 5,\n",
    "                    classProbs = TRUE,\n",
    "                    savePredictions = T)\n"
   ]
  },
  {
   "cell_type": "code",
   "execution_count": 6,
   "id": "b75044b4",
   "metadata": {},
   "outputs": [],
   "source": [
    "set.seed(123)\n",
    "\n",
    "class_ranger <- train(\n",
    "    Default~duration+amount+installment+age+history + purpose+foreign+rent,\n",
    "    data=train,\n",
    "    metric = \"Accuracy\",\n",
    "    method = \"ranger\",\n",
    "    trControl = ctrl,\n",
    "    tuneGrid=expand.grid(\n",
    "              mtry = c(1,2,3,4,5,6,7,8),\n",
    "              splitrule = \"gini\",\n",
    "               min.node.size = c(25,50,150,200,250))\n",
    ")\n"
   ]
  },
  {
   "cell_type": "code",
   "execution_count": 7,
   "id": "f684916f",
   "metadata": {},
   "outputs": [
    {
     "data": {
      "text/plain": [
       "Random Forest \n",
       "\n",
       "700 samples\n",
       "  8 predictor\n",
       "  2 classes: 'Si', 'No' \n",
       "\n",
       "No pre-processing\n",
       "Resampling: Cross-Validated (5 fold) \n",
       "Summary of sample sizes: 560, 560, 560, 560, 560 \n",
       "Resampling results across tuning parameters:\n",
       "\n",
       "  mtry  min.node.size  Accuracy   Kappa     \n",
       "  1      25            0.7028571  0.01320755\n",
       "  1      50            0.7028571  0.01320755\n",
       "  1     150            0.7000000  0.00000000\n",
       "  1     200            0.7000000  0.00000000\n",
       "  1     250            0.7000000  0.00000000\n",
       "  2      25            0.7057143  0.07176158\n",
       "  2      50            0.7028571  0.04583215\n",
       "  2     150            0.7014286  0.01759337\n",
       "  2     200            0.7000000  0.00733945\n",
       "  2     250            0.7014286  0.01018519\n",
       "  3      25            0.6985714  0.09432852\n",
       "  3      50            0.7014286  0.07369147\n",
       "  3     150            0.7000000  0.02241561\n",
       "  3     200            0.7000000  0.01862586\n",
       "  3     250            0.7028571  0.02042356\n",
       "  4      25            0.6914286  0.10137211\n",
       "  4      50            0.7014286  0.08991561\n",
       "  4     150            0.7028571  0.03506305\n",
       "  4     200            0.7028571  0.03506305\n",
       "  4     250            0.7000000  0.01862586\n",
       "  5      25            0.6885714  0.11107288\n",
       "  5      50            0.6971429  0.09777660\n",
       "  5     150            0.6985714  0.03774113\n",
       "  5     200            0.7042857  0.04142338\n",
       "  5     250            0.7014286  0.02864953\n",
       "  6      25            0.6885714  0.12447095\n",
       "  6      50            0.7014286  0.11740255\n",
       "  6     150            0.7000000  0.04370401\n",
       "  6     200            0.7028571  0.04236607\n",
       "  6     250            0.7042857  0.04142338\n",
       "  7      25            0.6842857  0.12539083\n",
       "  7      50            0.7042857  0.13920270\n",
       "  7     150            0.6985714  0.04085171\n",
       "  7     200            0.6971429  0.02735167\n",
       "  7     250            0.7028571  0.03862939\n",
       "  8      25            0.6857143  0.12663423\n",
       "  8      50            0.7157143  0.17469342\n",
       "  8     150            0.6985714  0.05802452\n",
       "  8     200            0.7028571  0.05251736\n",
       "  8     250            0.7014286  0.03925353\n",
       "\n",
       "Tuning parameter 'splitrule' was held constant at a value of gini\n",
       "Accuracy was used to select the optimal model using the largest value.\n",
       "The final values used for the model were mtry = 8, splitrule = gini\n",
       " and min.node.size = 50."
      ]
     },
     "metadata": {},
     "output_type": "display_data"
    }
   ],
   "source": [
    "class_ranger"
   ]
  },
  {
   "cell_type": "code",
   "execution_count": 8,
   "id": "b7455212",
   "metadata": {},
   "outputs": [
    {
     "data": {
      "text/html": [
       "<table class=\"dataframe\">\n",
       "<caption>A data.frame: 6 × 2</caption>\n",
       "<thead>\n",
       "\t<tr><th></th><th scope=col>Default</th><th scope=col>hat_default</th></tr>\n",
       "\t<tr><th></th><th scope=col>&lt;fct&gt;</th><th scope=col>&lt;fct&gt;</th></tr>\n",
       "</thead>\n",
       "<tbody>\n",
       "\t<tr><th scope=row>2</th><td>Si</td><td>Si</td></tr>\n",
       "\t<tr><th scope=row>3</th><td>No</td><td>No</td></tr>\n",
       "\t<tr><th scope=row>4</th><td>No</td><td>No</td></tr>\n",
       "\t<tr><th scope=row>5</th><td>Si</td><td>No</td></tr>\n",
       "\t<tr><th scope=row>7</th><td>No</td><td>No</td></tr>\n",
       "\t<tr><th scope=row>8</th><td>No</td><td>No</td></tr>\n",
       "</tbody>\n",
       "</table>\n"
      ],
      "text/latex": [
       "A data.frame: 6 × 2\n",
       "\\begin{tabular}{r|ll}\n",
       "  & Default & hat\\_default\\\\\n",
       "  & <fct> & <fct>\\\\\n",
       "\\hline\n",
       "\t2 & Si & Si\\\\\n",
       "\t3 & No & No\\\\\n",
       "\t4 & No & No\\\\\n",
       "\t5 & Si & No\\\\\n",
       "\t7 & No & No\\\\\n",
       "\t8 & No & No\\\\\n",
       "\\end{tabular}\n"
      ],
      "text/markdown": [
       "\n",
       "A data.frame: 6 × 2\n",
       "\n",
       "| <!--/--> | Default &lt;fct&gt; | hat_default &lt;fct&gt; |\n",
       "|---|---|---|\n",
       "| 2 | Si | Si |\n",
       "| 3 | No | No |\n",
       "| 4 | No | No |\n",
       "| 5 | Si | No |\n",
       "| 7 | No | No |\n",
       "| 8 | No | No |\n",
       "\n"
      ],
      "text/plain": [
       "  Default hat_default\n",
       "2 Si      Si         \n",
       "3 No      No         \n",
       "4 No      No         \n",
       "5 Si      No         \n",
       "7 No      No         \n",
       "8 No      No         "
      ]
     },
     "metadata": {},
     "output_type": "display_data"
    }
   ],
   "source": [
    "predictSample <- train   %>% \n",
    "    mutate(hat_default = predict(class_ranger, newdata = train, type = \"raw\")    ## predicted class labels\n",
    ")  %>% select(Default,hat_default)\n",
    "\n",
    "head(predictSample)"
   ]
  },
  {
   "cell_type": "code",
   "execution_count": 9,
   "id": "d1ff2220",
   "metadata": {},
   "outputs": [
    {
     "data": {
      "text/plain": [
       "Confusion Matrix and Statistics\n",
       "\n",
       "          Reference\n",
       "Prediction  Si  No\n",
       "        Si  86  15\n",
       "        No 124 475\n",
       "                                          \n",
       "               Accuracy : 0.8014          \n",
       "                 95% CI : (0.7699, 0.8304)\n",
       "    No Information Rate : 0.7             \n",
       "    P-Value [Acc > NIR] : 7.681e-10       \n",
       "                                          \n",
       "                  Kappa : 0.4449          \n",
       "                                          \n",
       " Mcnemar's Test P-Value : < 2.2e-16       \n",
       "                                          \n",
       "            Sensitivity : 0.4095          \n",
       "            Specificity : 0.9694          \n",
       "         Pos Pred Value : 0.8515          \n",
       "         Neg Pred Value : 0.7930          \n",
       "             Prevalence : 0.3000          \n",
       "         Detection Rate : 0.1229          \n",
       "   Detection Prevalence : 0.1443          \n",
       "      Balanced Accuracy : 0.6895          \n",
       "                                          \n",
       "       'Positive' Class : Si              \n",
       "                                          "
      ]
     },
     "metadata": {},
     "output_type": "display_data"
    }
   ],
   "source": [
    "confusionMatrix(data = predictSample$hat_default, reference = predictSample$Default)"
   ]
  },
  {
   "cell_type": "code",
   "execution_count": 10,
   "id": "7002d169",
   "metadata": {},
   "outputs": [
    {
     "data": {
      "text/html": [
       "0.801428571428571"
      ],
      "text/latex": [
       "0.801428571428571"
      ],
      "text/markdown": [
       "0.801428571428571"
      ],
      "text/plain": [
       "[1] 0.8014286"
      ]
     },
     "metadata": {},
     "output_type": "display_data"
    }
   ],
   "source": [
    "# Accuracy\n",
    "mean(predictSample$Default==predictSample$hat_default)"
   ]
  },
  {
   "cell_type": "code",
   "execution_count": 11,
   "id": "f402a271",
   "metadata": {},
   "outputs": [],
   "source": [
    "predictTest <- data.frame(\n",
    "  Default = test$Default,                                    ## observed class labels\n",
    "  hat_default = predict(class_ranger, newdata = test, type = \"raw\")    ## predicted class labels\n",
    ")\n"
   ]
  },
  {
   "cell_type": "code",
   "execution_count": 12,
   "id": "1dda7df9",
   "metadata": {},
   "outputs": [
    {
     "data": {
      "text/plain": [
       "Confusion Matrix and Statistics\n",
       "\n",
       "          Reference\n",
       "Prediction  Si  No\n",
       "        Si  22  14\n",
       "        No  68 196\n",
       "                                          \n",
       "               Accuracy : 0.7267          \n",
       "                 95% CI : (0.6725, 0.7763)\n",
       "    No Information Rate : 0.7             \n",
       "    P-Value [Acc > NIR] : 0.1726          \n",
       "                                          \n",
       "                  Kappa : 0.2146          \n",
       "                                          \n",
       " Mcnemar's Test P-Value : 4.832e-09       \n",
       "                                          \n",
       "            Sensitivity : 0.24444         \n",
       "            Specificity : 0.93333         \n",
       "         Pos Pred Value : 0.61111         \n",
       "         Neg Pred Value : 0.74242         \n",
       "             Prevalence : 0.30000         \n",
       "         Detection Rate : 0.07333         \n",
       "   Detection Prevalence : 0.12000         \n",
       "      Balanced Accuracy : 0.58889         \n",
       "                                          \n",
       "       'Positive' Class : Si              \n",
       "                                          "
      ]
     },
     "metadata": {},
     "output_type": "display_data"
    }
   ],
   "source": [
    "confusionMatrix(data = predictTest$hat_default, reference = predictTest$Default)"
   ]
  },
  {
   "cell_type": "markdown",
   "id": "5fc562bf",
   "metadata": {},
   "source": [
    "## True Positive Rate"
   ]
  },
  {
   "cell_type": "markdown",
   "id": "aaab8c2f",
   "metadata": {},
   "source": [
    "\n",
    "Podemos tratar te maximizar el TPR\n",
    "\n",
    "\n",
    "\\begin{align}\n",
    "     True\\,Positive\\,Rate=Sensitivity&=\\frac{True \\,\\,Positives}{Positives} \n",
    "  \\end{align}\n",
    "  \n",
    "  \\begin{align}\n",
    "        Specificity&=\\frac{True\\,\\,Negatives}{Negatives} \\nonumber \n",
    "  \\end{align}\n",
    "  \n",
    "\\begin{align}\n",
    "     False\\,Positive\\,Rate= 1-Specificity&=\\frac{False\\,\\,Positives}{Negatives} \\nonumber \n",
    "  \\end{align}\n",
    "\n",
    "\n"
   ]
  },
  {
   "cell_type": "code",
   "execution_count": 13,
   "id": "37f041cd",
   "metadata": {},
   "outputs": [],
   "source": [
    "\n",
    "ctrl2<- trainControl(method = \"cv\",\n",
    "                     number = 5,\n",
    "                     summaryFunction = twoClassSummary,\n",
    "                     classProbs = TRUE,\n",
    "                     savePredictions = T)\n"
   ]
  },
  {
   "cell_type": "code",
   "execution_count": 14,
   "id": "826f8293",
   "metadata": {},
   "outputs": [],
   "source": [
    "set.seed(123)\n",
    "\n",
    "class_ranger_sens <- train(\n",
    "    Default~duration+amount+installment+age+history + purpose+foreign+rent,\n",
    "    data=train,\n",
    "    metric = \"Sens\",\n",
    "    method = \"ranger\",\n",
    "    trControl = ctrl2,\n",
    "    tuneGrid=expand.grid(\n",
    "              mtry = c(1,2,3,4,5,6,7,8),\n",
    "              splitrule = \"gini\",\n",
    "               min.node.size = c(25,50,150,200,250))\n",
    ")"
   ]
  },
  {
   "cell_type": "code",
   "execution_count": 15,
   "id": "6978a7b9",
   "metadata": {},
   "outputs": [
    {
     "data": {
      "text/plain": [
       "Random Forest \n",
       "\n",
       "700 samples\n",
       "  8 predictor\n",
       "  2 classes: 'Si', 'No' \n",
       "\n",
       "No pre-processing\n",
       "Resampling: Cross-Validated (5 fold) \n",
       "Summary of sample sizes: 560, 560, 560, 560, 560 \n",
       "Resampling results across tuning parameters:\n",
       "\n",
       "  mtry  min.node.size  ROC        Sens        Spec     \n",
       "  1      25            0.6672983  0.00952381  1.0000000\n",
       "  1      50            0.6706997  0.00952381  1.0000000\n",
       "  1     150            0.6660836  0.00000000  1.0000000\n",
       "  1     200            0.6633382  0.00000000  1.0000000\n",
       "  1     250            0.6629738  0.00000000  1.0000000\n",
       "  2      25            0.6663751  0.08095238  0.9734694\n",
       "  2      50            0.6712342  0.05238095  0.9816327\n",
       "  2     150            0.6700680  0.01904762  0.9938776\n",
       "  2     200            0.6687075  0.00952381  0.9959184\n",
       "  2     250            0.6666910  0.00952381  0.9979592\n",
       "  3      25            0.6595724  0.13333333  0.9408163\n",
       "  3      50            0.6674441  0.09523810  0.9612245\n",
       "  3     150            0.6754616  0.02857143  0.9877551\n",
       "  3     200            0.6732750  0.02380952  0.9897959\n",
       "  3     250            0.6715258  0.01904762  0.9959184\n",
       "  4      25            0.6568027  0.16666667  0.9163265\n",
       "  4      50            0.6684645  0.11904762  0.9510204\n",
       "  4     150            0.6761419  0.03809524  0.9877551\n",
       "  4     200            0.6752187  0.03809524  0.9877551\n",
       "  4     250            0.6735666  0.02380952  0.9897959\n",
       "  5      25            0.6570457  0.19047619  0.9020408\n",
       "  5      50            0.6635083  0.14285714  0.9346939\n",
       "  5     150            0.6773567  0.05238095  0.9755102\n",
       "  5     200            0.6760447  0.04285714  0.9877551\n",
       "  5     250            0.6748785  0.03333333  0.9877551\n",
       "  6      25            0.6564140  0.21428571  0.8918367\n",
       "  6      50            0.6621963  0.16190476  0.9326531\n",
       "  6     150            0.6766764  0.05714286  0.9755102\n",
       "  6     200            0.6783285  0.04761905  0.9836735\n",
       "  6     250            0.6755102  0.04285714  0.9877551\n",
       "  7      25            0.6505345  0.22857143  0.8795918\n",
       "  7      50            0.6651118  0.19047619  0.9244898\n",
       "  7     150            0.6743926  0.05714286  0.9734694\n",
       "  7     200            0.6787172  0.04285714  0.9775510\n",
       "  7     250            0.6759961  0.04285714  0.9857143\n",
       "  8      25            0.6521866  0.22857143  0.8816327\n",
       "  8      50            0.6649174  0.21428571  0.9306122\n",
       "  8     150            0.6748299  0.08095238  0.9632653\n",
       "  8     200            0.6745870  0.06190476  0.9775510\n",
       "  8     250            0.6784257  0.04761905  0.9816327\n",
       "\n",
       "Tuning parameter 'splitrule' was held constant at a value of gini\n",
       "Sens was used to select the optimal model using the largest value.\n",
       "The final values used for the model were mtry = 7, splitrule = gini\n",
       " and min.node.size = 25."
      ]
     },
     "metadata": {},
     "output_type": "display_data"
    }
   ],
   "source": [
    "class_ranger_sens"
   ]
  },
  {
   "cell_type": "code",
   "execution_count": 16,
   "id": "e2813a49",
   "metadata": {},
   "outputs": [],
   "source": [
    "predictTest<- test   %>% \n",
    "    mutate(hat_default_sens = predict(class_ranger_sens, newdata = test, type = \"raw\")    ## predicted class labels\n",
    ")  %>% select(Default,hat_default_sens)\n"
   ]
  },
  {
   "cell_type": "code",
   "execution_count": 17,
   "id": "3966e954",
   "metadata": {},
   "outputs": [
    {
     "data": {
      "text/plain": [
       "Confusion Matrix and Statistics\n",
       "\n",
       "          Reference\n",
       "Prediction  Si  No\n",
       "        Si  24  16\n",
       "        No  66 194\n",
       "                                          \n",
       "               Accuracy : 0.7267          \n",
       "                 95% CI : (0.6725, 0.7763)\n",
       "    No Information Rate : 0.7             \n",
       "    P-Value [Acc > NIR] : 0.1726          \n",
       "                                          \n",
       "                  Kappa : 0.2264          \n",
       "                                          \n",
       " Mcnemar's Test P-Value : 6.262e-08       \n",
       "                                          \n",
       "            Sensitivity : 0.2667          \n",
       "            Specificity : 0.9238          \n",
       "         Pos Pred Value : 0.6000          \n",
       "         Neg Pred Value : 0.7462          \n",
       "             Prevalence : 0.3000          \n",
       "         Detection Rate : 0.0800          \n",
       "   Detection Prevalence : 0.1333          \n",
       "      Balanced Accuracy : 0.5952          \n",
       "                                          \n",
       "       'Positive' Class : Si              \n",
       "                                          "
      ]
     },
     "metadata": {},
     "output_type": "display_data"
    }
   ],
   "source": [
    "confusionMatrix(data = predictTest$hat_default, reference = predictTest$Default)"
   ]
  },
  {
   "cell_type": "markdown",
   "id": "a782b0c7",
   "metadata": {},
   "source": [
    "\n",
    "\\begin{align}\n",
    "     True\\,Positive\\,Rate=Sensitivity&=\\frac{True \\,\\,Positives}{Positives} \n",
    "  \\end{align}\n",
    "  \n",
    "  \\begin{align}\n",
    "        Specificity&=\\frac{True\\,\\,Negatives}{Negatives} \\nonumber \n",
    "  \\end{align}\n",
    "  \n",
    "\\begin{align}\n",
    "     False\\,Positive\\,Rate= 1-Specificity&=\\frac{False\\,\\,Positives}{Negatives} \\nonumber \n",
    "  \\end{align}"
   ]
  },
  {
   "cell_type": "markdown",
   "id": "9a9e8928",
   "metadata": {},
   "source": [
    "## ROC"
   ]
  },
  {
   "cell_type": "code",
   "execution_count": 18,
   "id": "a1ee9fd3",
   "metadata": {},
   "outputs": [],
   "source": [
    "set.seed(123)\n",
    "\n",
    "class_ranger_ROC <- train(\n",
    "    Default~duration+amount+installment+age+history + purpose+foreign+rent,\n",
    "    data=train,\n",
    "    metric = \"ROC\",\n",
    "     method = \"ranger\",\n",
    "    trControl = ctrl2,\n",
    "    tuneGrid=expand.grid(\n",
    "              mtry = c(1,2,3,4,5,6,7,8),\n",
    "              splitrule = \"gini\",\n",
    "               min.node.size = c(25,50,150,200,250))\n",
    ")"
   ]
  },
  {
   "cell_type": "code",
   "execution_count": 19,
   "id": "4fc630e8",
   "metadata": {},
   "outputs": [
    {
     "data": {
      "text/plain": [
       "Random Forest \n",
       "\n",
       "700 samples\n",
       "  8 predictor\n",
       "  2 classes: 'Si', 'No' \n",
       "\n",
       "No pre-processing\n",
       "Resampling: Cross-Validated (5 fold) \n",
       "Summary of sample sizes: 560, 560, 560, 560, 560 \n",
       "Resampling results across tuning parameters:\n",
       "\n",
       "  mtry  min.node.size  ROC        Sens        Spec     \n",
       "  1      25            0.6672983  0.00952381  1.0000000\n",
       "  1      50            0.6706997  0.00952381  1.0000000\n",
       "  1     150            0.6660836  0.00000000  1.0000000\n",
       "  1     200            0.6633382  0.00000000  1.0000000\n",
       "  1     250            0.6629738  0.00000000  1.0000000\n",
       "  2      25            0.6663751  0.08095238  0.9734694\n",
       "  2      50            0.6712342  0.05238095  0.9816327\n",
       "  2     150            0.6700680  0.01904762  0.9938776\n",
       "  2     200            0.6687075  0.00952381  0.9959184\n",
       "  2     250            0.6666910  0.00952381  0.9979592\n",
       "  3      25            0.6595724  0.13333333  0.9408163\n",
       "  3      50            0.6674441  0.09523810  0.9612245\n",
       "  3     150            0.6754616  0.02857143  0.9877551\n",
       "  3     200            0.6732750  0.02380952  0.9897959\n",
       "  3     250            0.6715258  0.01904762  0.9959184\n",
       "  4      25            0.6568027  0.16666667  0.9163265\n",
       "  4      50            0.6684645  0.11904762  0.9510204\n",
       "  4     150            0.6761419  0.03809524  0.9877551\n",
       "  4     200            0.6752187  0.03809524  0.9877551\n",
       "  4     250            0.6735666  0.02380952  0.9897959\n",
       "  5      25            0.6570457  0.19047619  0.9020408\n",
       "  5      50            0.6635083  0.14285714  0.9346939\n",
       "  5     150            0.6773567  0.05238095  0.9755102\n",
       "  5     200            0.6760447  0.04285714  0.9877551\n",
       "  5     250            0.6748785  0.03333333  0.9877551\n",
       "  6      25            0.6564140  0.21428571  0.8918367\n",
       "  6      50            0.6621963  0.16190476  0.9326531\n",
       "  6     150            0.6766764  0.05714286  0.9755102\n",
       "  6     200            0.6783285  0.04761905  0.9836735\n",
       "  6     250            0.6755102  0.04285714  0.9877551\n",
       "  7      25            0.6505345  0.22857143  0.8795918\n",
       "  7      50            0.6651118  0.19047619  0.9244898\n",
       "  7     150            0.6743926  0.05714286  0.9734694\n",
       "  7     200            0.6787172  0.04285714  0.9775510\n",
       "  7     250            0.6759961  0.04285714  0.9857143\n",
       "  8      25            0.6521866  0.22857143  0.8816327\n",
       "  8      50            0.6649174  0.21428571  0.9306122\n",
       "  8     150            0.6748299  0.08095238  0.9632653\n",
       "  8     200            0.6745870  0.06190476  0.9775510\n",
       "  8     250            0.6784257  0.04761905  0.9816327\n",
       "\n",
       "Tuning parameter 'splitrule' was held constant at a value of gini\n",
       "ROC was used to select the optimal model using the largest value.\n",
       "The final values used for the model were mtry = 7, splitrule = gini\n",
       " and min.node.size = 200."
      ]
     },
     "metadata": {},
     "output_type": "display_data"
    }
   ],
   "source": [
    "class_ranger_ROC"
   ]
  },
  {
   "cell_type": "code",
   "execution_count": 24,
   "id": "3a0bfd14",
   "metadata": {},
   "outputs": [
    {
     "data": {
      "text/html": [
       "<table class=\"dataframe\">\n",
       "<caption>A data.frame: 100 × 5</caption>\n",
       "<thead>\n",
       "\t<tr><th></th><th scope=col>Default</th><th scope=col>hat_default_sens</th><th scope=col>class_ROC</th><th scope=col>p_hat_ROC</th><th scope=col>Default_num</th></tr>\n",
       "\t<tr><th></th><th scope=col>&lt;fct&gt;</th><th scope=col>&lt;fct&gt;</th><th scope=col>&lt;fct&gt;</th><th scope=col>&lt;dbl&gt;</th><th scope=col>&lt;dbl&gt;</th></tr>\n",
       "</thead>\n",
       "<tbody>\n",
       "\t<tr><th scope=row>1</th><td>No</td><td>No</td><td>No</td><td>0.1282233</td><td>0</td></tr>\n",
       "\t<tr><th scope=row>6</th><td>No</td><td>No</td><td>No</td><td>0.4391797</td><td>0</td></tr>\n",
       "\t<tr><th scope=row>9</th><td>No</td><td>No</td><td>No</td><td>0.2599928</td><td>0</td></tr>\n",
       "\t<tr><th scope=row>11</th><td>Si</td><td>No</td><td>No</td><td>0.3441231</td><td>1</td></tr>\n",
       "\t<tr><th scope=row>13</th><td>No</td><td>No</td><td>No</td><td>0.3351296</td><td>0</td></tr>\n",
       "\t<tr><th scope=row>17</th><td>No</td><td>No</td><td>No</td><td>0.1545768</td><td>0</td></tr>\n",
       "\t<tr><th scope=row>22</th><td>No</td><td>No</td><td>No</td><td>0.1593205</td><td>0</td></tr>\n",
       "\t<tr><th scope=row>24</th><td>No</td><td>No</td><td>No</td><td>0.1385457</td><td>0</td></tr>\n",
       "\t<tr><th scope=row>25</th><td>No</td><td>No</td><td>No</td><td>0.1471724</td><td>0</td></tr>\n",
       "\t<tr><th scope=row>28</th><td>No</td><td>Si</td><td>No</td><td>0.4378309</td><td>0</td></tr>\n",
       "\t<tr><th scope=row>29</th><td>No</td><td>No</td><td>No</td><td>0.1418274</td><td>0</td></tr>\n",
       "\t<tr><th scope=row>31</th><td>No</td><td>No</td><td>No</td><td>0.2821605</td><td>0</td></tr>\n",
       "\t<tr><th scope=row>32</th><td>No</td><td>No</td><td>No</td><td>0.2753451</td><td>0</td></tr>\n",
       "\t<tr><th scope=row>36</th><td>Si</td><td>No</td><td>No</td><td>0.3127888</td><td>1</td></tr>\n",
       "\t<tr><th scope=row>38</th><td>Si</td><td>No</td><td>No</td><td>0.2967518</td><td>1</td></tr>\n",
       "\t<tr><th scope=row>44</th><td>No</td><td>No</td><td>No</td><td>0.2536468</td><td>0</td></tr>\n",
       "\t<tr><th scope=row>53</th><td>No</td><td>No</td><td>No</td><td>0.3013667</td><td>0</td></tr>\n",
       "\t<tr><th scope=row>60</th><td>Si</td><td>Si</td><td>No</td><td>0.3031529</td><td>1</td></tr>\n",
       "\t<tr><th scope=row>61</th><td>No</td><td>No</td><td>No</td><td>0.2379440</td><td>0</td></tr>\n",
       "\t<tr><th scope=row>65</th><td>No</td><td>No</td><td>No</td><td>0.3035366</td><td>0</td></tr>\n",
       "\t<tr><th scope=row>67</th><td>No</td><td>No</td><td>No</td><td>0.2273740</td><td>0</td></tr>\n",
       "\t<tr><th scope=row>69</th><td>Si</td><td>No</td><td>No</td><td>0.3828630</td><td>1</td></tr>\n",
       "\t<tr><th scope=row>72</th><td>No</td><td>No</td><td>No</td><td>0.1431546</td><td>0</td></tr>\n",
       "\t<tr><th scope=row>73</th><td>No</td><td>No</td><td>No</td><td>0.1309838</td><td>0</td></tr>\n",
       "\t<tr><th scope=row>74</th><td>No</td><td>No</td><td>No</td><td>0.2605985</td><td>0</td></tr>\n",
       "\t<tr><th scope=row>75</th><td>Si</td><td>No</td><td>No</td><td>0.3854167</td><td>1</td></tr>\n",
       "\t<tr><th scope=row>77</th><td>Si</td><td>No</td><td>No</td><td>0.3623564</td><td>1</td></tr>\n",
       "\t<tr><th scope=row>78</th><td>No</td><td>No</td><td>No</td><td>0.2631778</td><td>0</td></tr>\n",
       "\t<tr><th scope=row>80</th><td>No</td><td>No</td><td>No</td><td>0.3651939</td><td>0</td></tr>\n",
       "\t<tr><th scope=row>83</th><td>No</td><td>No</td><td>No</td><td>0.3667488</td><td>0</td></tr>\n",
       "\t<tr><th scope=row>⋮</th><td>⋮</td><td>⋮</td><td>⋮</td><td>⋮</td><td>⋮</td></tr>\n",
       "\t<tr><th scope=row>241</th><td>Si</td><td>No</td><td>No</td><td>0.4069437</td><td>1</td></tr>\n",
       "\t<tr><th scope=row>255</th><td>No</td><td>No</td><td>No</td><td>0.2387581</td><td>0</td></tr>\n",
       "\t<tr><th scope=row>260</th><td>No</td><td>No</td><td>No</td><td>0.1539320</td><td>0</td></tr>\n",
       "\t<tr><th scope=row>264</th><td>No</td><td>No</td><td>No</td><td>0.1725654</td><td>0</td></tr>\n",
       "\t<tr><th scope=row>272</th><td>No</td><td>No</td><td>No</td><td>0.1645284</td><td>0</td></tr>\n",
       "\t<tr><th scope=row>275</th><td>Si</td><td>No</td><td>Si</td><td>0.5106723</td><td>1</td></tr>\n",
       "\t<tr><th scope=row>282</th><td>No</td><td>No</td><td>No</td><td>0.2930656</td><td>0</td></tr>\n",
       "\t<tr><th scope=row>283</th><td>No</td><td>Si</td><td>No</td><td>0.4615114</td><td>0</td></tr>\n",
       "\t<tr><th scope=row>289</th><td>No</td><td>No</td><td>No</td><td>0.3386587</td><td>0</td></tr>\n",
       "\t<tr><th scope=row>292</th><td>Si</td><td>No</td><td>No</td><td>0.4182073</td><td>1</td></tr>\n",
       "\t<tr><th scope=row>298</th><td>No</td><td>No</td><td>No</td><td>0.2845059</td><td>0</td></tr>\n",
       "\t<tr><th scope=row>299</th><td>No</td><td>No</td><td>No</td><td>0.2603397</td><td>0</td></tr>\n",
       "\t<tr><th scope=row>302</th><td>Si</td><td>No</td><td>No</td><td>0.4515650</td><td>1</td></tr>\n",
       "\t<tr><th scope=row>305</th><td>Si</td><td>No</td><td>No</td><td>0.3461326</td><td>1</td></tr>\n",
       "\t<tr><th scope=row>306</th><td>No</td><td>No</td><td>No</td><td>0.2021962</td><td>0</td></tr>\n",
       "\t<tr><th scope=row>308</th><td>Si</td><td>No</td><td>No</td><td>0.3542995</td><td>1</td></tr>\n",
       "\t<tr><th scope=row>309</th><td>Si</td><td>No</td><td>No</td><td>0.2013296</td><td>1</td></tr>\n",
       "\t<tr><th scope=row>315</th><td>No</td><td>No</td><td>No</td><td>0.1489356</td><td>0</td></tr>\n",
       "\t<tr><th scope=row>316</th><td>Si</td><td>No</td><td>No</td><td>0.4645932</td><td>1</td></tr>\n",
       "\t<tr><th scope=row>319</th><td>No</td><td>No</td><td>No</td><td>0.2250273</td><td>0</td></tr>\n",
       "\t<tr><th scope=row>320</th><td>No</td><td>No</td><td>No</td><td>0.2161540</td><td>0</td></tr>\n",
       "\t<tr><th scope=row>321</th><td>Si</td><td>No</td><td>No</td><td>0.2218848</td><td>1</td></tr>\n",
       "\t<tr><th scope=row>334</th><td>Si</td><td>Si</td><td>No</td><td>0.4017074</td><td>1</td></tr>\n",
       "\t<tr><th scope=row>336</th><td>Si</td><td>No</td><td>No</td><td>0.1258435</td><td>1</td></tr>\n",
       "\t<tr><th scope=row>337</th><td>No</td><td>No</td><td>No</td><td>0.2717712</td><td>0</td></tr>\n",
       "\t<tr><th scope=row>338</th><td>Si</td><td>No</td><td>No</td><td>0.3742910</td><td>1</td></tr>\n",
       "\t<tr><th scope=row>343</th><td>No</td><td>No</td><td>No</td><td>0.3027784</td><td>0</td></tr>\n",
       "\t<tr><th scope=row>345</th><td>No</td><td>No</td><td>No</td><td>0.2019810</td><td>0</td></tr>\n",
       "\t<tr><th scope=row>347</th><td>No</td><td>No</td><td>No</td><td>0.2128600</td><td>0</td></tr>\n",
       "\t<tr><th scope=row>349</th><td>No</td><td>No</td><td>No</td><td>0.1535822</td><td>0</td></tr>\n",
       "</tbody>\n",
       "</table>\n"
      ],
      "text/latex": [
       "A data.frame: 100 × 5\n",
       "\\begin{tabular}{r|lllll}\n",
       "  & Default & hat\\_default\\_sens & class\\_ROC & p\\_hat\\_ROC & Default\\_num\\\\\n",
       "  & <fct> & <fct> & <fct> & <dbl> & <dbl>\\\\\n",
       "\\hline\n",
       "\t1 & No & No & No & 0.1282233 & 0\\\\\n",
       "\t6 & No & No & No & 0.4391797 & 0\\\\\n",
       "\t9 & No & No & No & 0.2599928 & 0\\\\\n",
       "\t11 & Si & No & No & 0.3441231 & 1\\\\\n",
       "\t13 & No & No & No & 0.3351296 & 0\\\\\n",
       "\t17 & No & No & No & 0.1545768 & 0\\\\\n",
       "\t22 & No & No & No & 0.1593205 & 0\\\\\n",
       "\t24 & No & No & No & 0.1385457 & 0\\\\\n",
       "\t25 & No & No & No & 0.1471724 & 0\\\\\n",
       "\t28 & No & Si & No & 0.4378309 & 0\\\\\n",
       "\t29 & No & No & No & 0.1418274 & 0\\\\\n",
       "\t31 & No & No & No & 0.2821605 & 0\\\\\n",
       "\t32 & No & No & No & 0.2753451 & 0\\\\\n",
       "\t36 & Si & No & No & 0.3127888 & 1\\\\\n",
       "\t38 & Si & No & No & 0.2967518 & 1\\\\\n",
       "\t44 & No & No & No & 0.2536468 & 0\\\\\n",
       "\t53 & No & No & No & 0.3013667 & 0\\\\\n",
       "\t60 & Si & Si & No & 0.3031529 & 1\\\\\n",
       "\t61 & No & No & No & 0.2379440 & 0\\\\\n",
       "\t65 & No & No & No & 0.3035366 & 0\\\\\n",
       "\t67 & No & No & No & 0.2273740 & 0\\\\\n",
       "\t69 & Si & No & No & 0.3828630 & 1\\\\\n",
       "\t72 & No & No & No & 0.1431546 & 0\\\\\n",
       "\t73 & No & No & No & 0.1309838 & 0\\\\\n",
       "\t74 & No & No & No & 0.2605985 & 0\\\\\n",
       "\t75 & Si & No & No & 0.3854167 & 1\\\\\n",
       "\t77 & Si & No & No & 0.3623564 & 1\\\\\n",
       "\t78 & No & No & No & 0.2631778 & 0\\\\\n",
       "\t80 & No & No & No & 0.3651939 & 0\\\\\n",
       "\t83 & No & No & No & 0.3667488 & 0\\\\\n",
       "\t⋮ & ⋮ & ⋮ & ⋮ & ⋮ & ⋮\\\\\n",
       "\t241 & Si & No & No & 0.4069437 & 1\\\\\n",
       "\t255 & No & No & No & 0.2387581 & 0\\\\\n",
       "\t260 & No & No & No & 0.1539320 & 0\\\\\n",
       "\t264 & No & No & No & 0.1725654 & 0\\\\\n",
       "\t272 & No & No & No & 0.1645284 & 0\\\\\n",
       "\t275 & Si & No & Si & 0.5106723 & 1\\\\\n",
       "\t282 & No & No & No & 0.2930656 & 0\\\\\n",
       "\t283 & No & Si & No & 0.4615114 & 0\\\\\n",
       "\t289 & No & No & No & 0.3386587 & 0\\\\\n",
       "\t292 & Si & No & No & 0.4182073 & 1\\\\\n",
       "\t298 & No & No & No & 0.2845059 & 0\\\\\n",
       "\t299 & No & No & No & 0.2603397 & 0\\\\\n",
       "\t302 & Si & No & No & 0.4515650 & 1\\\\\n",
       "\t305 & Si & No & No & 0.3461326 & 1\\\\\n",
       "\t306 & No & No & No & 0.2021962 & 0\\\\\n",
       "\t308 & Si & No & No & 0.3542995 & 1\\\\\n",
       "\t309 & Si & No & No & 0.2013296 & 1\\\\\n",
       "\t315 & No & No & No & 0.1489356 & 0\\\\\n",
       "\t316 & Si & No & No & 0.4645932 & 1\\\\\n",
       "\t319 & No & No & No & 0.2250273 & 0\\\\\n",
       "\t320 & No & No & No & 0.2161540 & 0\\\\\n",
       "\t321 & Si & No & No & 0.2218848 & 1\\\\\n",
       "\t334 & Si & Si & No & 0.4017074 & 1\\\\\n",
       "\t336 & Si & No & No & 0.1258435 & 1\\\\\n",
       "\t337 & No & No & No & 0.2717712 & 0\\\\\n",
       "\t338 & Si & No & No & 0.3742910 & 1\\\\\n",
       "\t343 & No & No & No & 0.3027784 & 0\\\\\n",
       "\t345 & No & No & No & 0.2019810 & 0\\\\\n",
       "\t347 & No & No & No & 0.2128600 & 0\\\\\n",
       "\t349 & No & No & No & 0.1535822 & 0\\\\\n",
       "\\end{tabular}\n"
      ],
      "text/markdown": [
       "\n",
       "A data.frame: 100 × 5\n",
       "\n",
       "| <!--/--> | Default &lt;fct&gt; | hat_default_sens &lt;fct&gt; | class_ROC &lt;fct&gt; | p_hat_ROC &lt;dbl&gt; | Default_num &lt;dbl&gt; |\n",
       "|---|---|---|---|---|---|\n",
       "| 1 | No | No | No | 0.1282233 | 0 |\n",
       "| 6 | No | No | No | 0.4391797 | 0 |\n",
       "| 9 | No | No | No | 0.2599928 | 0 |\n",
       "| 11 | Si | No | No | 0.3441231 | 1 |\n",
       "| 13 | No | No | No | 0.3351296 | 0 |\n",
       "| 17 | No | No | No | 0.1545768 | 0 |\n",
       "| 22 | No | No | No | 0.1593205 | 0 |\n",
       "| 24 | No | No | No | 0.1385457 | 0 |\n",
       "| 25 | No | No | No | 0.1471724 | 0 |\n",
       "| 28 | No | Si | No | 0.4378309 | 0 |\n",
       "| 29 | No | No | No | 0.1418274 | 0 |\n",
       "| 31 | No | No | No | 0.2821605 | 0 |\n",
       "| 32 | No | No | No | 0.2753451 | 0 |\n",
       "| 36 | Si | No | No | 0.3127888 | 1 |\n",
       "| 38 | Si | No | No | 0.2967518 | 1 |\n",
       "| 44 | No | No | No | 0.2536468 | 0 |\n",
       "| 53 | No | No | No | 0.3013667 | 0 |\n",
       "| 60 | Si | Si | No | 0.3031529 | 1 |\n",
       "| 61 | No | No | No | 0.2379440 | 0 |\n",
       "| 65 | No | No | No | 0.3035366 | 0 |\n",
       "| 67 | No | No | No | 0.2273740 | 0 |\n",
       "| 69 | Si | No | No | 0.3828630 | 1 |\n",
       "| 72 | No | No | No | 0.1431546 | 0 |\n",
       "| 73 | No | No | No | 0.1309838 | 0 |\n",
       "| 74 | No | No | No | 0.2605985 | 0 |\n",
       "| 75 | Si | No | No | 0.3854167 | 1 |\n",
       "| 77 | Si | No | No | 0.3623564 | 1 |\n",
       "| 78 | No | No | No | 0.2631778 | 0 |\n",
       "| 80 | No | No | No | 0.3651939 | 0 |\n",
       "| 83 | No | No | No | 0.3667488 | 0 |\n",
       "| ⋮ | ⋮ | ⋮ | ⋮ | ⋮ | ⋮ |\n",
       "| 241 | Si | No | No | 0.4069437 | 1 |\n",
       "| 255 | No | No | No | 0.2387581 | 0 |\n",
       "| 260 | No | No | No | 0.1539320 | 0 |\n",
       "| 264 | No | No | No | 0.1725654 | 0 |\n",
       "| 272 | No | No | No | 0.1645284 | 0 |\n",
       "| 275 | Si | No | Si | 0.5106723 | 1 |\n",
       "| 282 | No | No | No | 0.2930656 | 0 |\n",
       "| 283 | No | Si | No | 0.4615114 | 0 |\n",
       "| 289 | No | No | No | 0.3386587 | 0 |\n",
       "| 292 | Si | No | No | 0.4182073 | 1 |\n",
       "| 298 | No | No | No | 0.2845059 | 0 |\n",
       "| 299 | No | No | No | 0.2603397 | 0 |\n",
       "| 302 | Si | No | No | 0.4515650 | 1 |\n",
       "| 305 | Si | No | No | 0.3461326 | 1 |\n",
       "| 306 | No | No | No | 0.2021962 | 0 |\n",
       "| 308 | Si | No | No | 0.3542995 | 1 |\n",
       "| 309 | Si | No | No | 0.2013296 | 1 |\n",
       "| 315 | No | No | No | 0.1489356 | 0 |\n",
       "| 316 | Si | No | No | 0.4645932 | 1 |\n",
       "| 319 | No | No | No | 0.2250273 | 0 |\n",
       "| 320 | No | No | No | 0.2161540 | 0 |\n",
       "| 321 | Si | No | No | 0.2218848 | 1 |\n",
       "| 334 | Si | Si | No | 0.4017074 | 1 |\n",
       "| 336 | Si | No | No | 0.1258435 | 1 |\n",
       "| 337 | No | No | No | 0.2717712 | 0 |\n",
       "| 338 | Si | No | No | 0.3742910 | 1 |\n",
       "| 343 | No | No | No | 0.3027784 | 0 |\n",
       "| 345 | No | No | No | 0.2019810 | 0 |\n",
       "| 347 | No | No | No | 0.2128600 | 0 |\n",
       "| 349 | No | No | No | 0.1535822 | 0 |\n",
       "\n"
      ],
      "text/plain": [
       "    Default hat_default_sens class_ROC p_hat_ROC Default_num\n",
       "1   No      No               No        0.1282233 0          \n",
       "6   No      No               No        0.4391797 0          \n",
       "9   No      No               No        0.2599928 0          \n",
       "11  Si      No               No        0.3441231 1          \n",
       "13  No      No               No        0.3351296 0          \n",
       "17  No      No               No        0.1545768 0          \n",
       "22  No      No               No        0.1593205 0          \n",
       "24  No      No               No        0.1385457 0          \n",
       "25  No      No               No        0.1471724 0          \n",
       "28  No      Si               No        0.4378309 0          \n",
       "29  No      No               No        0.1418274 0          \n",
       "31  No      No               No        0.2821605 0          \n",
       "32  No      No               No        0.2753451 0          \n",
       "36  Si      No               No        0.3127888 1          \n",
       "38  Si      No               No        0.2967518 1          \n",
       "44  No      No               No        0.2536468 0          \n",
       "53  No      No               No        0.3013667 0          \n",
       "60  Si      Si               No        0.3031529 1          \n",
       "61  No      No               No        0.2379440 0          \n",
       "65  No      No               No        0.3035366 0          \n",
       "67  No      No               No        0.2273740 0          \n",
       "69  Si      No               No        0.3828630 1          \n",
       "72  No      No               No        0.1431546 0          \n",
       "73  No      No               No        0.1309838 0          \n",
       "74  No      No               No        0.2605985 0          \n",
       "75  Si      No               No        0.3854167 1          \n",
       "77  Si      No               No        0.3623564 1          \n",
       "78  No      No               No        0.2631778 0          \n",
       "80  No      No               No        0.3651939 0          \n",
       "83  No      No               No        0.3667488 0          \n",
       "⋮   ⋮       ⋮                ⋮         ⋮         ⋮          \n",
       "241 Si      No               No        0.4069437 1          \n",
       "255 No      No               No        0.2387581 0          \n",
       "260 No      No               No        0.1539320 0          \n",
       "264 No      No               No        0.1725654 0          \n",
       "272 No      No               No        0.1645284 0          \n",
       "275 Si      No               Si        0.5106723 1          \n",
       "282 No      No               No        0.2930656 0          \n",
       "283 No      Si               No        0.4615114 0          \n",
       "289 No      No               No        0.3386587 0          \n",
       "292 Si      No               No        0.4182073 1          \n",
       "298 No      No               No        0.2845059 0          \n",
       "299 No      No               No        0.2603397 0          \n",
       "302 Si      No               No        0.4515650 1          \n",
       "305 Si      No               No        0.3461326 1          \n",
       "306 No      No               No        0.2021962 0          \n",
       "308 Si      No               No        0.3542995 1          \n",
       "309 Si      No               No        0.2013296 1          \n",
       "315 No      No               No        0.1489356 0          \n",
       "316 Si      No               No        0.4645932 1          \n",
       "319 No      No               No        0.2250273 0          \n",
       "320 No      No               No        0.2161540 0          \n",
       "321 Si      No               No        0.2218848 1          \n",
       "334 Si      Si               No        0.4017074 1          \n",
       "336 Si      No               No        0.1258435 1          \n",
       "337 No      No               No        0.2717712 0          \n",
       "338 Si      No               No        0.3742910 1          \n",
       "343 No      No               No        0.3027784 0          \n",
       "345 No      No               No        0.2019810 0          \n",
       "347 No      No               No        0.2128600 0          \n",
       "349 No      No               No        0.1535822 0          "
      ]
     },
     "metadata": {},
     "output_type": "display_data"
    }
   ],
   "source": [
    "predictTest <- predictTest  %>% \n",
    "    mutate(class_ROC = predict(class_ranger_ROC, newdata = test, type = \"raw\"), # predicted class labels\n",
    "           p_hat_ROC=predict(class_ranger_ROC, newdata = test, type = \"prob\")$Si,         ## predicted class probabilities#\n",
    "           Default_num=ifelse(Default==\"No\",0,1)\n",
    ")\n",
    "\n",
    "head(predictTest,100)"
   ]
  },
  {
   "cell_type": "code",
   "execution_count": 21,
   "id": "5ef4bc5a",
   "metadata": {},
   "outputs": [
    {
     "data": {
      "text/plain": [
       "Confusion Matrix and Statistics\n",
       "\n",
       "          Reference\n",
       "Prediction  Si  No\n",
       "        Si   8   2\n",
       "        No  82 208\n",
       "                                          \n",
       "               Accuracy : 0.72            \n",
       "                 95% CI : (0.6655, 0.7701)\n",
       "    No Information Rate : 0.7             \n",
       "    P-Value [Acc > NIR] : 0.2456          \n",
       "                                          \n",
       "                  Kappa : 0.1064          \n",
       "                                          \n",
       " Mcnemar's Test P-Value : <2e-16          \n",
       "                                          \n",
       "            Sensitivity : 0.08889         \n",
       "            Specificity : 0.99048         \n",
       "         Pos Pred Value : 0.80000         \n",
       "         Neg Pred Value : 0.71724         \n",
       "             Prevalence : 0.30000         \n",
       "         Detection Rate : 0.02667         \n",
       "   Detection Prevalence : 0.03333         \n",
       "      Balanced Accuracy : 0.53968         \n",
       "                                          \n",
       "       'Positive' Class : Si              \n",
       "                                          "
      ]
     },
     "metadata": {},
     "output_type": "display_data"
    }
   ],
   "source": [
    "confusionMatrix(data = predictTest$class_ROC, reference = predictTest$Default)"
   ]
  },
  {
   "cell_type": "code",
   "execution_count": 25,
   "id": "2fb3e94a",
   "metadata": {},
   "outputs": [
    {
     "name": "stderr",
     "output_type": "stream",
     "text": [
      "Setting direction: controls < cases\n",
      "\n"
     ]
    },
    {
     "data": {
      "text/plain": [
       "\n",
       "Call:\n",
       "roc.default(response = predictTest$Default, predictor = predictTest$p_hat_ROC,     levels = rev(levels(predictTest$Default)))\n",
       "\n",
       "Data: predictTest$p_hat_ROC in 210 controls (predictTest$Default No) < 90 cases (predictTest$Default Si).\n",
       "Area under the curve: 0.7524"
      ]
     },
     "metadata": {},
     "output_type": "display_data"
    }
   ],
   "source": [
    "p_load(\"pROC\")\n",
    "rfROC <- roc(predictTest$Default, predictTest$p_hat_ROC, levels = rev(levels(predictTest$Default)))\n",
    "rfROC"
   ]
  },
  {
   "cell_type": "code",
   "execution_count": 26,
   "id": "a7ab3f63",
   "metadata": {},
   "outputs": [
    {
     "data": {
      "image/png": "[encoded data removed]",
      "text/plain": [
       "plot without title"
      ]
     },
     "metadata": {
      "image/png": {
       "height": 420,
       "width": 420
      }
     },
     "output_type": "display_data"
    }
   ],
   "source": [
    "plot(rfROC)"
   ]
  },
  {
   "cell_type": "code",
   "execution_count": 27,
   "id": "11d6c408",
   "metadata": {},
   "outputs": [],
   "source": [
    "FPR<-mean(predictTest$class_ROC[predictTest$Default==\"No\"]==\"No\")\n",
    "TPR<-mean(predictTest$class_ROC[predictTest$Default==\"Si\"]==\"Si\")"
   ]
  },
  {
   "cell_type": "code",
   "execution_count": 28,
   "id": "f904eb6f",
   "metadata": {},
   "outputs": [
    {
     "data": {
      "image/png": "[encoded data removed]",
      "text/plain": [
       "plot without title"
      ]
     },
     "metadata": {
      "image/png": {
       "height": 420,
       "width": 420
      }
     },
     "output_type": "display_data"
    }
   ],
   "source": [
    "plot(rfROC)\n",
    "points(x= FPR, \n",
    "       y=TPR, \n",
    "       cex=4, pch=20, col='red') "
   ]
  },
  {
   "cell_type": "code",
   "execution_count": 29,
   "id": "979209a9",
   "metadata": {},
   "outputs": [],
   "source": [
    "predictTest <- predictTest  %>% \n",
    "    mutate(class_ROC_2 = factor(ifelse(p_hat_ROC>.2,\"Si\",\"No\"),levels=c(\"Si\",\"No\"))\n",
    ")"
   ]
  },
  {
   "cell_type": "code",
   "execution_count": 30,
   "id": "60fb754e",
   "metadata": {},
   "outputs": [
    {
     "data": {
      "text/plain": [
       "Confusion Matrix and Statistics\n",
       "\n",
       "          Reference\n",
       "Prediction  Si  No\n",
       "        Si  85 141\n",
       "        No   5  69\n",
       "                                          \n",
       "               Accuracy : 0.5133          \n",
       "                 95% CI : (0.4552, 0.5712)\n",
       "    No Information Rate : 0.7             \n",
       "    P-Value [Acc > NIR] : 1               \n",
       "                                          \n",
       "                  Kappa : 0.1907          \n",
       "                                          \n",
       " Mcnemar's Test P-Value : <2e-16          \n",
       "                                          \n",
       "            Sensitivity : 0.9444          \n",
       "            Specificity : 0.3286          \n",
       "         Pos Pred Value : 0.3761          \n",
       "         Neg Pred Value : 0.9324          \n",
       "             Prevalence : 0.3000          \n",
       "         Detection Rate : 0.2833          \n",
       "   Detection Prevalence : 0.7533          \n",
       "      Balanced Accuracy : 0.6365          \n",
       "                                          \n",
       "       'Positive' Class : Si              \n",
       "                                          "
      ]
     },
     "metadata": {},
     "output_type": "display_data"
    }
   ],
   "source": [
    "confusionMatrix(data = predictTest$class_ROC_2, reference = predictTest$Default)"
   ]
  },
  {
   "cell_type": "code",
   "execution_count": 31,
   "id": "53879cbb",
   "metadata": {},
   "outputs": [],
   "source": [
    "FPR_2<-mean(predictTest$class_ROC_2[predictTest$Default==\"No\"]==\"No\")\n",
    "TPR_2<-mean(predictTest$class_ROC_2[predictTest$Default==\"Si\"]==\"Si\")\n"
   ]
  },
  {
   "cell_type": "code",
   "execution_count": 32,
   "id": "dec09137",
   "metadata": {},
   "outputs": [
    {
     "data": {
      "image/png": "[encoded data removed]",
      "text/plain": [
       "plot without title"
      ]
     },
     "metadata": {
      "image/png": {
       "height": 420,
       "width": 420
      }
     },
     "output_type": "display_data"
    }
   ],
   "source": [
    "plot(rfROC, print.auc=TRUE,legacy.axes=TRUE)\n",
    "## our .5 rule cutoff\n",
    "points(x= FPR, \n",
    "       y=TPR, \n",
    "       cex=4, pch=20, col='red') \n",
    "## A .2 rule cutoff\n",
    "points(x= FPR_2, \n",
    "       y=TPR_2, \n",
    "       cex=4, pch=20, col='blue') \n",
    "legend(\"bottomright\",fill=c(\"red\",\"blue\"), legend=c(\"p=1/2\",\"p=1/5\"),bty=\"n\",title=\"cutoff\")"
   ]
  },
  {
   "cell_type": "markdown",
   "id": "c758d559",
   "metadata": {},
   "source": [
    "### Closest to top left cutoff"
   ]
  },
  {
   "cell_type": "markdown",
   "id": "dfc409ab",
   "metadata": {},
   "source": [
    "Otro enfoque es encontrar el punto en la curva ROC que está más cerca (es decir, la distancia más corta) al modelo perfecto (con 100\\% de sensibilidad y 100\\% de especificidad), que está asociado con la esquina superior izquierda de la gráfica."
   ]
  },
  {
   "cell_type": "code",
   "execution_count": 33,
   "id": "c6e3aa27",
   "metadata": {},
   "outputs": [
    {
     "data": {
      "text/html": [
       "<table class=\"dataframe\">\n",
       "<caption>A data.frame: 1 × 3</caption>\n",
       "<thead>\n",
       "\t<tr><th scope=col>threshold</th><th scope=col>specificity</th><th scope=col>sensitivity</th></tr>\n",
       "\t<tr><th scope=col>&lt;dbl&gt;</th><th scope=col>&lt;dbl&gt;</th><th scope=col>&lt;dbl&gt;</th></tr>\n",
       "</thead>\n",
       "<tbody>\n",
       "\t<tr><td>0.3280265</td><td>0.7285714</td><td>0.6888889</td></tr>\n",
       "</tbody>\n",
       "</table>\n"
      ],
      "text/latex": [
       "A data.frame: 1 × 3\n",
       "\\begin{tabular}{lll}\n",
       " threshold & specificity & sensitivity\\\\\n",
       " <dbl> & <dbl> & <dbl>\\\\\n",
       "\\hline\n",
       "\t 0.3280265 & 0.7285714 & 0.6888889\\\\\n",
       "\\end{tabular}\n"
      ],
      "text/markdown": [
       "\n",
       "A data.frame: 1 × 3\n",
       "\n",
       "| threshold &lt;dbl&gt; | specificity &lt;dbl&gt; | sensitivity &lt;dbl&gt; |\n",
       "|---|---|---|\n",
       "| 0.3280265 | 0.7285714 | 0.6888889 |\n",
       "\n"
      ],
      "text/plain": [
       "  threshold specificity sensitivity\n",
       "1 0.3280265 0.7285714   0.6888889  "
      ]
     },
     "metadata": {},
     "output_type": "display_data"
    }
   ],
   "source": [
    "rfThresh <- coords(rfROC, x = \"best\", best.method = \"closest.topleft\")\n",
    "rfThresh"
   ]
  },
  {
   "cell_type": "code",
   "execution_count": 34,
   "id": "22af3e2c",
   "metadata": {},
   "outputs": [],
   "source": [
    "predictTest <- predictTest  %>% \n",
    "    mutate(class_ROC_Thresh = factor(ifelse(p_hat_ROC>rfThresh$threshold,\"Si\",\"No\"),levels=c(\"Si\",\"No\"))\n",
    ")"
   ]
  },
  {
   "cell_type": "code",
   "execution_count": 35,
   "id": "a5d14feb",
   "metadata": {},
   "outputs": [
    {
     "data": {
      "text/plain": [
       "Confusion Matrix and Statistics\n",
       "\n",
       "          Reference\n",
       "Prediction  Si  No\n",
       "        Si  62  57\n",
       "        No  28 153\n",
       "                                        \n",
       "               Accuracy : 0.7167        \n",
       "                 95% CI : (0.662, 0.767)\n",
       "    No Information Rate : 0.7           \n",
       "    P-Value [Acc > NIR] : 0.287360      \n",
       "                                        \n",
       "                  Kappa : 0.3823        \n",
       "                                        \n",
       " Mcnemar's Test P-Value : 0.002389      \n",
       "                                        \n",
       "            Sensitivity : 0.6889        \n",
       "            Specificity : 0.7286        \n",
       "         Pos Pred Value : 0.5210        \n",
       "         Neg Pred Value : 0.8453        \n",
       "             Prevalence : 0.3000        \n",
       "         Detection Rate : 0.2067        \n",
       "   Detection Prevalence : 0.3967        \n",
       "      Balanced Accuracy : 0.7087        \n",
       "                                        \n",
       "       'Positive' Class : Si            \n",
       "                                        "
      ]
     },
     "metadata": {},
     "output_type": "display_data"
    }
   ],
   "source": [
    "confusionMatrix(data = predictTest$class_ROC_Thresh, reference = predictTest$Default)"
   ]
  },
  {
   "cell_type": "code",
   "execution_count": 36,
   "id": "9fb43260",
   "metadata": {},
   "outputs": [],
   "source": [
    "FPR_3<-mean(predictTest$class_ROC_Thresh[predictTest$Default==\"No\"]==\"No\")\n",
    "TPR_3<-mean(predictTest$class_ROC_Thresh[predictTest$Default==\"Si\"]==\"Si\")\n"
   ]
  },
  {
   "cell_type": "code",
   "execution_count": 37,
   "id": "36981d02",
   "metadata": {},
   "outputs": [
    {
     "data": {
      "image/png": "[encoded data removed]",
      "text/plain": [
       "plot without title"
      ]
     },
     "metadata": {
      "image/png": {
       "height": 420,
       "width": 420
      }
     },
     "output_type": "display_data"
    }
   ],
   "source": [
    "plot(rfROC, print.auc=TRUE,legacy.axes=TRUE)\n",
    "## our .5 rule cutoff\n",
    "points(x= FPR, \n",
    "       y=TPR, \n",
    "       cex=4, pch=20, col='red') \n",
    "## A optimal threshold\n",
    "points(x= FPR_3, \n",
    "       y=TPR_3, \n",
    "       cex=4, pch=20, col='green') \n",
    "legend(\"bottomright\",fill=c(\"red\",\"green\"), legend=c(\"p=1/2\",\"p=Top Left\"),bty=\"n\",title=\"cutoff\")"
   ]
  },
  {
   "cell_type": "code",
   "execution_count": null,
   "id": "2f7ccbd7",
   "metadata": {},
   "outputs": [],
   "source": []
  }
 ],
 "metadata": {
  "kernelspec": {
   "display_name": "R",
   "language": "R",
   "name": "ir"
  },
  "language_info": {
   "codemirror_mode": "r",
   "file_extension": ".r",
   "mimetype": "text/x-r-source",
   "name": "R",
   "pygments_lexer": "r",
   "version": "4.3.0"
  },
  "toc": {
   "base_numbering": 1,
   "nav_menu": {},
   "number_sections": true,
   "sideBar": true,
   "skip_h1_title": false,
   "title_cell": "Table of Contents",
   "title_sidebar": "Contents",
   "toc_cell": false,
   "toc_position": {
    "height": "calc(100% - 180px)",
    "left": "10px",
    "top": "150px",
    "width": "307px"
   },
   "toc_section_display": true,
   "toc_window_display": false
  }
 },
 "nbformat": 4,
 "nbformat_minor": 5
}
