{
 "cells": [
  {
   "cell_type": "markdown",
   "id": "e53dc4f6",
   "metadata": {},
   "source": [
    "<div >\n",
    "<img src = \"../banner.jpg\" />\n",
    "</div>"
   ]
  },
  {
   "cell_type": "markdown",
   "id": "396ef734",
   "metadata": {},
   "source": [
    "<a target=\"_blank\" href=\"https://colab.research.google.com/github/ignaciomsarmiento/BDML_202302/blob/main/Lecture01/Notebook_SS01.ipynb\">\n",
    "  <img src=\"https://colab.research.google.com/assets/colab-badge.svg\" alt=\"Open In Colab\"/>\n",
    "</a>\n"
   ]
  },
  {
   "cell_type": "markdown",
   "id": "32d87f3f",
   "metadata": {},
   "source": [
    "# Regresión Lineal para predicción\n",
    "\n",
    "Modelo \n",
    "\n",
    "$$\n",
    "y= f(X) + u\n",
    "$$\n",
    "\n",
    "$$\n",
    "y= X\\beta + u\n",
    "$$\n",
    "\n",
    "\n",
    "Queremos predecir: $Y_i$\n",
    "\n",
    "> *Ejemplo:* el logaritmo del salario\n",
    "\n",
    "Características (aka **predictores**, **features**): $X_i=\\left(X_{1i},\\ldots,X_{pi}\\right)'$\n",
    "\n",
    "> *Ejemplo:* educación, edad, educación de los padres, habilidad cognitiva, etc.\n"
   ]
  },
  {
   "cell_type": "code",
   "execution_count": null,
   "id": "d86d5977",
   "metadata": {
    "vscode": {
     "languageId": "r"
    }
   },
   "outputs": [],
   "source": [
    "# Cargamos los paquetes\n",
    "\n",
    "require(\"pacman\")\n",
    "\n",
    "p_load(\"tidyverse\",\"stargazer\")\n"
   ]
  },
  {
   "cell_type": "code",
   "execution_count": null,
   "id": "0f4546c8",
   "metadata": {
    "vscode": {
     "languageId": "r"
    }
   },
   "outputs": [],
   "source": [
    "nlsy = read_csv('https://raw.githubusercontent.com/ignaciomsarmiento/datasets/main/nlsy97.csv')\n",
    "\n",
    "#Housekeeping\n",
    "nlsy = nlsy  %>%   drop_na(educ) #dropea los valores faltantes (NA)"
   ]
  },
  {
   "cell_type": "code",
   "execution_count": null,
   "id": "676de3bf",
   "metadata": {
    "vscode": {
     "languageId": "r"
    }
   },
   "outputs": [],
   "source": [
    "head(nlsy)"
   ]
  },
  {
   "cell_type": "markdown",
   "id": "c0f44a67",
   "metadata": {},
   "source": [
    "## Regresión Lineal: log(salario) en polinomios de educación"
   ]
  },
  {
   "cell_type": "code",
   "execution_count": null,
   "id": "1c589b4f",
   "metadata": {
    "vscode": {
     "languageId": "r"
    }
   },
   "outputs": [],
   "source": [
    "#Polinomios de educación\n",
    "\n",
    "nlsy <- nlsy  %>% mutate(educ2=educ^2,\n",
    "                         educ3=educ^3,\n",
    "                         educ4=educ^4,\n",
    "                         educ5=educ^5,\n",
    "                         educ6=educ^6,\n",
    "                         educ7=educ^7,\n",
    "                         educ8=educ^8,\n",
    "                         educ9=educ^9,\n",
    "                         educ10=educ^10\n",
    "                        )"
   ]
  },
  {
   "cell_type": "code",
   "execution_count": null,
   "id": "ff9a7d77",
   "metadata": {
    "vscode": {
     "languageId": "r"
    }
   },
   "outputs": [],
   "source": [
    "head(nlsy)"
   ]
  },
  {
   "cell_type": "markdown",
   "id": "9e866852",
   "metadata": {},
   "source": [
    "### Corremos la regresión"
   ]
  },
  {
   "cell_type": "code",
   "execution_count": null,
   "id": "c209a0c9",
   "metadata": {
    "vscode": {
     "languageId": "r"
    }
   },
   "outputs": [],
   "source": [
    "reg<- lm(lnw_2016~educ+ educ2 + educ3 + educ4 + educ5 + educ6 + educ7 + \n",
    "    educ8 + educ9 + educ10,tol = 1e-9,   data = nlsy)\n"
   ]
  },
  {
   "cell_type": "code",
   "execution_count": null,
   "id": "640813a8",
   "metadata": {
    "vscode": {
     "languageId": "r"
    }
   },
   "outputs": [],
   "source": [
    "summary(reg) #ver los resultados"
   ]
  },
  {
   "cell_type": "code",
   "execution_count": null,
   "id": "50ca8d07",
   "metadata": {
    "vscode": {
     "languageId": "r"
    }
   },
   "outputs": [],
   "source": [
    "stargazer(reg,type=\"text\") #Similar en stata: outreg2 "
   ]
  },
  {
   "cell_type": "markdown",
   "id": "9727ac8e",
   "metadata": {},
   "source": [
    "## Predicción\n",
    "\n",
    "$$\n",
    "\\hat{y} = \\hat{\\beta}_0 +  \\hat{\\beta}_1 educ + .... +  \\hat{\\beta}_{10} educ^{10}\n",
    "$$"
   ]
  },
  {
   "cell_type": "code",
   "execution_count": null,
   "id": "18c41cbd",
   "metadata": {
    "vscode": {
     "languageId": "r"
    }
   },
   "outputs": [],
   "source": [
    "#predict me simplifica hacer la operación X\\hat{\\beta}\n",
    "\n",
    "nlsy <- nlsy  %>% mutate(yhat=predict(reg)) #con la función mutate\n",
    "#nlsy$yhat = predict(reg) #R base\n"
   ]
  },
  {
   "cell_type": "code",
   "execution_count": null,
   "id": "fad3cc0d",
   "metadata": {
    "vscode": {
     "languageId": "r"
    }
   },
   "outputs": [],
   "source": [
    "head(nlsy)"
   ]
  },
  {
   "cell_type": "code",
   "execution_count": null,
   "id": "a5d8cb0f",
   "metadata": {
    "vscode": {
     "languageId": "r"
    }
   },
   "outputs": [],
   "source": [
    "# Voy a calcular E(y|X=x) y E(\\hat(y)| X=x)\n",
    "\n",
    "summ = nlsy %>%  \n",
    "  group_by(\n",
    "    educ, educ2, educ3, educ4, educ5, \n",
    "    educ6, educ7, educ8, educ9, educ10\n",
    "  ) %>%  \n",
    "  summarize(\n",
    "    mean_y = mean(lnw_2016),\n",
    "    yhat_reg = mean(yhat), .groups=\"drop\"\n",
    "  ) "
   ]
  },
  {
   "cell_type": "code",
   "execution_count": null,
   "id": "801aa98f",
   "metadata": {
    "vscode": {
     "languageId": "r"
    }
   },
   "outputs": [],
   "source": [
    "head(summ)"
   ]
  },
  {
   "cell_type": "code",
   "execution_count": null,
   "id": "bacc3aa8",
   "metadata": {
    "vscode": {
     "languageId": "r"
    }
   },
   "outputs": [],
   "source": [
    "# graficamos\n",
    "ggplot(summ) + \n",
    "  geom_point(\n",
    "    aes(x = educ, y = mean_y),\n",
    "    color = \"blue\", size = 2\n",
    "  ) + \n",
    "  geom_line(\n",
    "    aes(x = educ, y = yhat_reg), \n",
    "    color = \"green\", linewidth = 1.5\n",
    "  ) + \n",
    "  labs(\n",
    "    title = \"ln Wages by Education in the NLSY\",\n",
    "    x = \"Years of Schooling\",\n",
    "    y = \"ln Wages\"\n",
    "  ) +\n",
    "  theme_bw()\n"
   ]
  },
  {
   "cell_type": "markdown",
   "id": "57fd77cb",
   "metadata": {},
   "source": [
    "Como podemos ver, la regresión lineal de mínimos cuadrados puede aproximar cualquier función continua y ciertamente puede usarse para la predicción. \n",
    "\n",
    "Incluyendo un conjunto lo suficientemente rico de transformaciones, las predicciones de OLS producirán estimaciones insesgadas del verdadero predictor ideal: la función de expectativa condicional. Pero estas estimaciones serán bastante ruidosas."
   ]
  }
 ],
 "metadata": {
  "kernelspec": {
   "display_name": "R",
   "language": "R",
   "name": "ir"
  },
  "language_info": {
   "codemirror_mode": "r",
   "file_extension": ".r",
   "mimetype": "text/x-r-source",
   "name": "R",
   "pygments_lexer": "r",
   "version": "4.3.0"
  },
  "toc": {
   "base_numbering": 1,
   "nav_menu": {},
   "number_sections": true,
   "sideBar": true,
   "skip_h1_title": false,
   "title_cell": "Table of Contents",
   "title_sidebar": "Contents",
   "toc_cell": false,
   "toc_position": {},
   "toc_section_display": true,
   "toc_window_display": false
  }
 },
 "nbformat": 4,
 "nbformat_minor": 5
}
