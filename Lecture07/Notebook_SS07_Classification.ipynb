{
 "cells": [
  {
   "cell_type": "markdown",
   "id": "340f63f6-93da-4633-9f43-43927ea8d65c",
   "metadata": {},
   "source": [
    "<div >\n",
    "<img src = \"../banner.jpg\" />\n",
    "</div>"
   ]
  },
  {
   "cell_type": "markdown",
   "id": "44a1b098",
   "metadata": {},
   "source": [
    "<a target=\"_blank\" href=\"https://colab.research.google.com/github/ignaciomsarmiento//BDML_202302/blob/main/Lecture07/Notebook_SS07_Classification.ipynb\">\n",
    "  <img src=\"https://colab.research.google.com/assets/colab-badge.svg\" alt=\"Open In Colab\"/>\n",
    "</a>\n",
    "\n"
   ]
  },
  {
   "cell_type": "markdown",
   "id": "d8e20450",
   "metadata": {},
   "source": [
    "# Classification"
   ]
  },
  {
   "cell_type": "markdown",
   "id": "a5c24b15",
   "metadata": {},
   "source": [
    "To work through the steps of probability-based classification, we’ll use a real dataset on loans and credit from a set of local lenders in Germany (taken from the UC Irvine Machine Learning Repository and cleaned for our purposes). \n",
    "\n",
    "Credit scoring is a classic problem of classification, and it remains one of the big application domains for ML: use previous loan results (default versus payment) to train a model that can predict the performance of potential new loans.\n",
    "\n",
    "\\begin{align}\n",
    "Default=f(x) + u\n",
    "\\end{align}\n",
    "\n",
    "where $Default=I(Default=1)$\n",
    "\n"
   ]
  },
  {
   "cell_type": "code",
   "execution_count": 1,
   "id": "592ee382",
   "metadata": {},
   "outputs": [
    {
     "name": "stderr",
     "output_type": "stream",
     "text": [
      "Loading required package: pacman\n",
      "\n"
     ]
    }
   ],
   "source": [
    "#Cargar librerías \n",
    "require(\"pacman\")\n",
    "p_load(tidyverse)\n",
    "set.seed(1011)"
   ]
  },
  {
   "cell_type": "code",
   "execution_count": 2,
   "id": "8795384b",
   "metadata": {},
   "outputs": [
    {
     "data": {
      "text/html": [
       "<table class=\"dataframe\">\n",
       "<caption>A data.frame: 6 × 9</caption>\n",
       "<thead>\n",
       "\t<tr><th></th><th scope=col>Default</th><th scope=col>duration</th><th scope=col>amount</th><th scope=col>installment</th><th scope=col>age</th><th scope=col>history</th><th scope=col>purpose</th><th scope=col>foreign</th><th scope=col>rent</th></tr>\n",
       "\t<tr><th></th><th scope=col>&lt;int&gt;</th><th scope=col>&lt;int&gt;</th><th scope=col>&lt;int&gt;</th><th scope=col>&lt;int&gt;</th><th scope=col>&lt;int&gt;</th><th scope=col>&lt;fct&gt;</th><th scope=col>&lt;fct&gt;</th><th scope=col>&lt;fct&gt;</th><th scope=col>&lt;fct&gt;</th></tr>\n",
       "</thead>\n",
       "<tbody>\n",
       "\t<tr><th scope=row>1</th><td>0</td><td> 6</td><td>1169</td><td>4</td><td>67</td><td>terrible</td><td>goods/repair</td><td>foreign</td><td>FALSE</td></tr>\n",
       "\t<tr><th scope=row>2</th><td>1</td><td>48</td><td>5951</td><td>2</td><td>22</td><td>poor    </td><td>goods/repair</td><td>foreign</td><td>FALSE</td></tr>\n",
       "\t<tr><th scope=row>3</th><td>0</td><td>12</td><td>2096</td><td>2</td><td>49</td><td>terrible</td><td>edu         </td><td>foreign</td><td>FALSE</td></tr>\n",
       "\t<tr><th scope=row>4</th><td>0</td><td>42</td><td>7882</td><td>2</td><td>45</td><td>poor    </td><td>goods/repair</td><td>foreign</td><td>FALSE</td></tr>\n",
       "\t<tr><th scope=row>5</th><td>1</td><td>24</td><td>4870</td><td>3</td><td>53</td><td>poor    </td><td>newcar      </td><td>foreign</td><td>FALSE</td></tr>\n",
       "\t<tr><th scope=row>6</th><td>0</td><td>36</td><td>9055</td><td>2</td><td>35</td><td>poor    </td><td>edu         </td><td>foreign</td><td>FALSE</td></tr>\n",
       "</tbody>\n",
       "</table>\n"
      ],
      "text/latex": [
       "A data.frame: 6 × 9\n",
       "\\begin{tabular}{r|lllllllll}\n",
       "  & Default & duration & amount & installment & age & history & purpose & foreign & rent\\\\\n",
       "  & <int> & <int> & <int> & <int> & <int> & <fct> & <fct> & <fct> & <fct>\\\\\n",
       "\\hline\n",
       "\t1 & 0 &  6 & 1169 & 4 & 67 & terrible & goods/repair & foreign & FALSE\\\\\n",
       "\t2 & 1 & 48 & 5951 & 2 & 22 & poor     & goods/repair & foreign & FALSE\\\\\n",
       "\t3 & 0 & 12 & 2096 & 2 & 49 & terrible & edu          & foreign & FALSE\\\\\n",
       "\t4 & 0 & 42 & 7882 & 2 & 45 & poor     & goods/repair & foreign & FALSE\\\\\n",
       "\t5 & 1 & 24 & 4870 & 3 & 53 & poor     & newcar       & foreign & FALSE\\\\\n",
       "\t6 & 0 & 36 & 9055 & 2 & 35 & poor     & edu          & foreign & FALSE\\\\\n",
       "\\end{tabular}\n"
      ],
      "text/markdown": [
       "\n",
       "A data.frame: 6 × 9\n",
       "\n",
       "| <!--/--> | Default &lt;int&gt; | duration &lt;int&gt; | amount &lt;int&gt; | installment &lt;int&gt; | age &lt;int&gt; | history &lt;fct&gt; | purpose &lt;fct&gt; | foreign &lt;fct&gt; | rent &lt;fct&gt; |\n",
       "|---|---|---|---|---|---|---|---|---|---|\n",
       "| 1 | 0 |  6 | 1169 | 4 | 67 | terrible | goods/repair | foreign | FALSE |\n",
       "| 2 | 1 | 48 | 5951 | 2 | 22 | poor     | goods/repair | foreign | FALSE |\n",
       "| 3 | 0 | 12 | 2096 | 2 | 49 | terrible | edu          | foreign | FALSE |\n",
       "| 4 | 0 | 42 | 7882 | 2 | 45 | poor     | goods/repair | foreign | FALSE |\n",
       "| 5 | 1 | 24 | 4870 | 3 | 53 | poor     | newcar       | foreign | FALSE |\n",
       "| 6 | 0 | 36 | 9055 | 2 | 35 | poor     | edu          | foreign | FALSE |\n",
       "\n"
      ],
      "text/plain": [
       "  Default duration amount installment age history  purpose      foreign rent \n",
       "1 0        6       1169   4           67  terrible goods/repair foreign FALSE\n",
       "2 1       48       5951   2           22  poor     goods/repair foreign FALSE\n",
       "3 0       12       2096   2           49  terrible edu          foreign FALSE\n",
       "4 0       42       7882   2           45  poor     goods/repair foreign FALSE\n",
       "5 1       24       4870   3           53  poor     newcar       foreign FALSE\n",
       "6 0       36       9055   2           35  poor     edu          foreign FALSE"
      ]
     },
     "metadata": {},
     "output_type": "display_data"
    }
   ],
   "source": [
    "#Leer los datos \n",
    "credit <- readRDS(url(\"https://github.com/ignaciomsarmiento/datasets/blob/main/credit_class.rds?raw=true\"))\n",
    "head(credit)"
   ]
  },
  {
   "cell_type": "code",
   "execution_count": 3,
   "id": "f6c8086e",
   "metadata": {},
   "outputs": [
    {
     "data": {
      "text/plain": [
       "\n",
       "   <NA> foreign  german \n",
       "    0.0    96.3     3.7 "
      ]
     },
     "metadata": {},
     "output_type": "display_data"
    }
   ],
   "source": [
    "prop.table(table(credit$foreign))*100"
   ]
  },
  {
   "cell_type": "code",
   "execution_count": 4,
   "id": "2548afe4",
   "metadata": {},
   "outputs": [],
   "source": [
    "default<-credit$Default  #defino ahora va a servir después\n",
    "\n",
    "#mutación de factores\n",
    "credit<-credit %>% mutate(Default=factor(Default,levels=c(0,1),labels=c(\"No\",\"Si\")),\n",
    "                          history=factor(history,levels=c(\"good\",\"poor\",\"terrible\"),labels=c(\"buena\",\"mala\",\"terrible\")),\n",
    "                          foreign=factor(foreign,levels=c(\"foreign\",\"german\"),labels=c(\"extranjero\",\"aleman\")),\n",
    "                          purpose=factor(purpose,levels=c(\"newcar\",\"usedcar\",\"goods/repair\",\"edu\", \"biz\" ),labels=c(\"auto_nuevo\",\"auto_usado\",\"bienes\",\"educacion\",\"negocios\")))         "
   ]
  },
  {
   "cell_type": "code",
   "execution_count": 5,
   "id": "98f31ae9",
   "metadata": {},
   "outputs": [
    {
     "data": {
      "text/html": [
       "<table class=\"dataframe\">\n",
       "<caption>A data.frame: 6 × 9</caption>\n",
       "<thead>\n",
       "\t<tr><th></th><th scope=col>Default</th><th scope=col>duration</th><th scope=col>amount</th><th scope=col>installment</th><th scope=col>age</th><th scope=col>history</th><th scope=col>purpose</th><th scope=col>foreign</th><th scope=col>rent</th></tr>\n",
       "\t<tr><th></th><th scope=col>&lt;fct&gt;</th><th scope=col>&lt;int&gt;</th><th scope=col>&lt;int&gt;</th><th scope=col>&lt;int&gt;</th><th scope=col>&lt;int&gt;</th><th scope=col>&lt;fct&gt;</th><th scope=col>&lt;fct&gt;</th><th scope=col>&lt;fct&gt;</th><th scope=col>&lt;fct&gt;</th></tr>\n",
       "</thead>\n",
       "<tbody>\n",
       "\t<tr><th scope=row>1</th><td>No</td><td> 6</td><td>1169</td><td>4</td><td>67</td><td>terrible</td><td>bienes    </td><td>extranjero</td><td>FALSE</td></tr>\n",
       "\t<tr><th scope=row>2</th><td>Si</td><td>48</td><td>5951</td><td>2</td><td>22</td><td>mala    </td><td>bienes    </td><td>extranjero</td><td>FALSE</td></tr>\n",
       "\t<tr><th scope=row>3</th><td>No</td><td>12</td><td>2096</td><td>2</td><td>49</td><td>terrible</td><td>educacion </td><td>extranjero</td><td>FALSE</td></tr>\n",
       "\t<tr><th scope=row>4</th><td>No</td><td>42</td><td>7882</td><td>2</td><td>45</td><td>mala    </td><td>bienes    </td><td>extranjero</td><td>FALSE</td></tr>\n",
       "\t<tr><th scope=row>5</th><td>Si</td><td>24</td><td>4870</td><td>3</td><td>53</td><td>mala    </td><td>auto_nuevo</td><td>extranjero</td><td>FALSE</td></tr>\n",
       "\t<tr><th scope=row>6</th><td>No</td><td>36</td><td>9055</td><td>2</td><td>35</td><td>mala    </td><td>educacion </td><td>extranjero</td><td>FALSE</td></tr>\n",
       "</tbody>\n",
       "</table>\n"
      ],
      "text/latex": [
       "A data.frame: 6 × 9\n",
       "\\begin{tabular}{r|lllllllll}\n",
       "  & Default & duration & amount & installment & age & history & purpose & foreign & rent\\\\\n",
       "  & <fct> & <int> & <int> & <int> & <int> & <fct> & <fct> & <fct> & <fct>\\\\\n",
       "\\hline\n",
       "\t1 & No &  6 & 1169 & 4 & 67 & terrible & bienes     & extranjero & FALSE\\\\\n",
       "\t2 & Si & 48 & 5951 & 2 & 22 & mala     & bienes     & extranjero & FALSE\\\\\n",
       "\t3 & No & 12 & 2096 & 2 & 49 & terrible & educacion  & extranjero & FALSE\\\\\n",
       "\t4 & No & 42 & 7882 & 2 & 45 & mala     & bienes     & extranjero & FALSE\\\\\n",
       "\t5 & Si & 24 & 4870 & 3 & 53 & mala     & auto\\_nuevo & extranjero & FALSE\\\\\n",
       "\t6 & No & 36 & 9055 & 2 & 35 & mala     & educacion  & extranjero & FALSE\\\\\n",
       "\\end{tabular}\n"
      ],
      "text/markdown": [
       "\n",
       "A data.frame: 6 × 9\n",
       "\n",
       "| <!--/--> | Default &lt;fct&gt; | duration &lt;int&gt; | amount &lt;int&gt; | installment &lt;int&gt; | age &lt;int&gt; | history &lt;fct&gt; | purpose &lt;fct&gt; | foreign &lt;fct&gt; | rent &lt;fct&gt; |\n",
       "|---|---|---|---|---|---|---|---|---|---|\n",
       "| 1 | No |  6 | 1169 | 4 | 67 | terrible | bienes     | extranjero | FALSE |\n",
       "| 2 | Si | 48 | 5951 | 2 | 22 | mala     | bienes     | extranjero | FALSE |\n",
       "| 3 | No | 12 | 2096 | 2 | 49 | terrible | educacion  | extranjero | FALSE |\n",
       "| 4 | No | 42 | 7882 | 2 | 45 | mala     | bienes     | extranjero | FALSE |\n",
       "| 5 | Si | 24 | 4870 | 3 | 53 | mala     | auto_nuevo | extranjero | FALSE |\n",
       "| 6 | No | 36 | 9055 | 2 | 35 | mala     | educacion  | extranjero | FALSE |\n",
       "\n"
      ],
      "text/plain": [
       "  Default duration amount installment age history  purpose    foreign    rent \n",
       "1 No       6       1169   4           67  terrible bienes     extranjero FALSE\n",
       "2 Si      48       5951   2           22  mala     bienes     extranjero FALSE\n",
       "3 No      12       2096   2           49  terrible educacion  extranjero FALSE\n",
       "4 No      42       7882   2           45  mala     bienes     extranjero FALSE\n",
       "5 Si      24       4870   3           53  mala     auto_nuevo extranjero FALSE\n",
       "6 No      36       9055   2           35  mala     educacion  extranjero FALSE"
      ]
     },
     "metadata": {},
     "output_type": "display_data"
    }
   ],
   "source": [
    "head(credit)"
   ]
  },
  {
   "cell_type": "code",
   "execution_count": 6,
   "id": "c0fd971c",
   "metadata": {},
   "outputs": [
    {
     "data": {
      "text/plain": [
       "\n",
       "extranjero     aleman \n",
       "       963         37 "
      ]
     },
     "metadata": {},
     "output_type": "display_data"
    }
   ],
   "source": [
    "table(credit$foreign)"
   ]
  },
  {
   "cell_type": "code",
   "execution_count": 7,
   "id": "672c1e5d",
   "metadata": {},
   "outputs": [
    {
     "data": {
      "image/png": "[encoded data removed]",
      "text/plain": [
       "Plot with title “”"
      ]
     },
     "metadata": {
      "image/png": {
       "height": 420,
       "width": 420
      }
     },
     "output_type": "display_data"
    }
   ],
   "source": [
    "## plot a mosaic\n",
    "plot(Default ~ history, data=credit, col=c(8,2), ylab=\"Default\") \n"
   ]
  },
  {
   "cell_type": "markdown",
   "id": "3629ef9e",
   "metadata": {},
   "source": [
    "## Estimación Logit\n",
    "\n",
    "\\begin{align}\n",
    "p_i &=\\frac{e^{X_i\\beta}}{1+e^{X_i\\beta}}\n",
    "\\end{align}\n"
   ]
  },
  {
   "cell_type": "code",
   "execution_count": 8,
   "id": "7076a869",
   "metadata": {},
   "outputs": [
    {
     "data": {
      "text/plain": [
       "\n",
       "Call:\n",
       "glm(formula = Default ~ ., family = \"binomial\", data = credit)\n",
       "\n",
       "Coefficients:\n",
       "                    Estimate Std. Error z value Pr(>|z|)    \n",
       "(Intercept)       -1.936e-01  4.579e-01  -0.423  0.67239    \n",
       "duration           2.666e-02  8.152e-03   3.270  0.00108 ** \n",
       "amount             9.793e-05  3.670e-05   2.668  0.00763 ** \n",
       "installment        2.361e-01  7.687e-02   3.072  0.00213 ** \n",
       "age               -1.598e-02  7.348e-03  -2.175  0.02964 *  \n",
       "historymala       -1.101e+00  2.490e-01  -4.424 9.67e-06 ***\n",
       "historyterrible   -1.849e+00  2.837e-01  -6.518 7.13e-11 ***\n",
       "purposeauto_usado -1.702e+00  3.273e-01  -5.201 1.98e-07 ***\n",
       "purposebienes     -7.551e-01  1.867e-01  -4.044 5.25e-05 ***\n",
       "purposeeducacion  -1.473e-01  3.263e-01  -0.451  0.65166    \n",
       "purposenegocios   -8.501e-01  2.801e-01  -3.036  0.00240 ** \n",
       "foreignaleman     -1.322e+00  5.814e-01  -2.274  0.02298 *  \n",
       "rentTRUE           5.702e-01  1.944e-01   2.934  0.00335 ** \n",
       "---\n",
       "Signif. codes:  0 ‘***’ 0.001 ‘**’ 0.01 ‘*’ 0.05 ‘.’ 0.1 ‘ ’ 1\n",
       "\n",
       "(Dispersion parameter for binomial family taken to be 1)\n",
       "\n",
       "    Null deviance: 1221.7  on 999  degrees of freedom\n",
       "Residual deviance: 1061.5  on 987  degrees of freedom\n",
       "AIC: 1087.5\n",
       "\n",
       "Number of Fisher Scoring iterations: 5\n"
      ]
     },
     "metadata": {},
     "output_type": "display_data"
    }
   ],
   "source": [
    "mylogit <- glm(Default~., data = credit, family = \"binomial\")\n",
    "summary(mylogit,type=\"text\")"
   ]
  },
  {
   "cell_type": "markdown",
   "id": "71975cb3",
   "metadata": {},
   "source": [
    "## Prediction\n",
    "\n",
    "\n",
    "\\begin{align}\n",
    "\\hat{p}_i &=\\frac{e^{X_i\\hat{\\beta}}}{1+e^{X_i\\hat{\\beta}}}\n",
    "\\end{align}"
   ]
  },
  {
   "cell_type": "code",
   "execution_count": 9,
   "id": "49bf83ea",
   "metadata": {},
   "outputs": [
    {
     "data": {
      "text/html": [
       "<table class=\"dataframe\">\n",
       "<caption>A data.frame: 6 × 2</caption>\n",
       "<thead>\n",
       "\t<tr><th></th><th scope=col>Default</th><th scope=col>prob_hat</th></tr>\n",
       "\t<tr><th></th><th scope=col>&lt;fct&gt;</th><th scope=col>&lt;dbl&gt;</th></tr>\n",
       "</thead>\n",
       "<tbody>\n",
       "\t<tr><th scope=row>1</th><td>No</td><td>0.06602463</td></tr>\n",
       "\t<tr><th scope=row>2</th><td>Si</td><td>0.48318910</td></tr>\n",
       "\t<tr><th scope=row>3</th><td>No</td><td>0.12179580</td></tr>\n",
       "\t<tr><th scope=row>4</th><td>No</td><td>0.39995570</td></tr>\n",
       "\t<tr><th scope=row>5</th><td>Si</td><td>0.42139444</td></tr>\n",
       "\t<tr><th scope=row>6</th><td>No</td><td>0.57856013</td></tr>\n",
       "</tbody>\n",
       "</table>\n"
      ],
      "text/latex": [
       "A data.frame: 6 × 2\n",
       "\\begin{tabular}{r|ll}\n",
       "  & Default & prob\\_hat\\\\\n",
       "  & <fct> & <dbl>\\\\\n",
       "\\hline\n",
       "\t1 & No & 0.06602463\\\\\n",
       "\t2 & Si & 0.48318910\\\\\n",
       "\t3 & No & 0.12179580\\\\\n",
       "\t4 & No & 0.39995570\\\\\n",
       "\t5 & Si & 0.42139444\\\\\n",
       "\t6 & No & 0.57856013\\\\\n",
       "\\end{tabular}\n"
      ],
      "text/markdown": [
       "\n",
       "A data.frame: 6 × 2\n",
       "\n",
       "| <!--/--> | Default &lt;fct&gt; | prob_hat &lt;dbl&gt; |\n",
       "|---|---|---|\n",
       "| 1 | No | 0.06602463 |\n",
       "| 2 | Si | 0.48318910 |\n",
       "| 3 | No | 0.12179580 |\n",
       "| 4 | No | 0.39995570 |\n",
       "| 5 | Si | 0.42139444 |\n",
       "| 6 | No | 0.57856013 |\n",
       "\n"
      ],
      "text/plain": [
       "  Default prob_hat  \n",
       "1 No      0.06602463\n",
       "2 Si      0.48318910\n",
       "3 No      0.12179580\n",
       "4 No      0.39995570\n",
       "5 Si      0.42139444\n",
       "6 No      0.57856013"
      ]
     },
     "metadata": {},
     "output_type": "display_data"
    }
   ],
   "source": [
    "\n",
    "credit<- credit  %>% mutate(prob_hat=predict(mylogit,newdata = credit, type = \"response\")) #type = \"response\" gives the predicted probabilities.\n",
    "\n",
    "head(credit  %>% select(Default,prob_hat))\n"
   ]
  },
  {
   "cell_type": "markdown",
   "id": "64ab05f8",
   "metadata": {},
   "source": [
    "## Classification \n",
    "\n",
    "\\begin{align}\n",
    "\\hat{Y}_i= 1[\\hat{p}_i >0.5]\n",
    "\\end{align}"
   ]
  },
  {
   "cell_type": "code",
   "execution_count": 10,
   "id": "8d189012",
   "metadata": {},
   "outputs": [
    {
     "data": {
      "text/html": [
       "<table class=\"dataframe\">\n",
       "<caption>A data.frame: 6 × 3</caption>\n",
       "<thead>\n",
       "\t<tr><th></th><th scope=col>Default</th><th scope=col>prob_hat</th><th scope=col>Default_hat</th></tr>\n",
       "\t<tr><th></th><th scope=col>&lt;fct&gt;</th><th scope=col>&lt;dbl&gt;</th><th scope=col>&lt;dbl&gt;</th></tr>\n",
       "</thead>\n",
       "<tbody>\n",
       "\t<tr><th scope=row>1</th><td>No</td><td>0.06602463</td><td>0</td></tr>\n",
       "\t<tr><th scope=row>2</th><td>Si</td><td>0.48318910</td><td>0</td></tr>\n",
       "\t<tr><th scope=row>3</th><td>No</td><td>0.12179580</td><td>0</td></tr>\n",
       "\t<tr><th scope=row>4</th><td>No</td><td>0.39995570</td><td>0</td></tr>\n",
       "\t<tr><th scope=row>5</th><td>Si</td><td>0.42139444</td><td>0</td></tr>\n",
       "\t<tr><th scope=row>6</th><td>No</td><td>0.57856013</td><td>1</td></tr>\n",
       "</tbody>\n",
       "</table>\n"
      ],
      "text/latex": [
       "A data.frame: 6 × 3\n",
       "\\begin{tabular}{r|lll}\n",
       "  & Default & prob\\_hat & Default\\_hat\\\\\n",
       "  & <fct> & <dbl> & <dbl>\\\\\n",
       "\\hline\n",
       "\t1 & No & 0.06602463 & 0\\\\\n",
       "\t2 & Si & 0.48318910 & 0\\\\\n",
       "\t3 & No & 0.12179580 & 0\\\\\n",
       "\t4 & No & 0.39995570 & 0\\\\\n",
       "\t5 & Si & 0.42139444 & 0\\\\\n",
       "\t6 & No & 0.57856013 & 1\\\\\n",
       "\\end{tabular}\n"
      ],
      "text/markdown": [
       "\n",
       "A data.frame: 6 × 3\n",
       "\n",
       "| <!--/--> | Default &lt;fct&gt; | prob_hat &lt;dbl&gt; | Default_hat &lt;dbl&gt; |\n",
       "|---|---|---|---|\n",
       "| 1 | No | 0.06602463 | 0 |\n",
       "| 2 | Si | 0.48318910 | 0 |\n",
       "| 3 | No | 0.12179580 | 0 |\n",
       "| 4 | No | 0.39995570 | 0 |\n",
       "| 5 | Si | 0.42139444 | 0 |\n",
       "| 6 | No | 0.57856013 | 1 |\n",
       "\n"
      ],
      "text/plain": [
       "  Default prob_hat   Default_hat\n",
       "1 No      0.06602463 0          \n",
       "2 Si      0.48318910 0          \n",
       "3 No      0.12179580 0          \n",
       "4 No      0.39995570 0          \n",
       "5 Si      0.42139444 0          \n",
       "6 No      0.57856013 1          "
      ]
     },
     "metadata": {},
     "output_type": "display_data"
    }
   ],
   "source": [
    "rule <- 1/2 # Bayes Rule\n",
    "\n",
    "credit <-  credit  %>% mutate(Default_hat=ifelse(prob_hat>rule,1,0))    ## predicted class labels\n",
    "\n",
    "head(credit  %>% select(Default,prob_hat,Default_hat))"
   ]
  },
  {
   "cell_type": "markdown",
   "id": "4ea01791",
   "metadata": {},
   "source": [
    "## Aside: Dummy Vars"
   ]
  },
  {
   "cell_type": "code",
   "execution_count": 11,
   "id": "991c0bdf",
   "metadata": {},
   "outputs": [
    {
     "data": {
      "text/plain": [
       "$call\n",
       "dummyVars.default(formula = \" ~ .\", data = credit)\n",
       "\n",
       "$form\n",
       "~.\n",
       "<environment: 0x7fef41c4f9c8>\n",
       "\n",
       "$vars\n",
       " [1] \"Default\"     \"duration\"    \"amount\"      \"installment\" \"age\"        \n",
       " [6] \"history\"     \"purpose\"     \"foreign\"     \"rent\"        \"prob_hat\"   \n",
       "[11] \"Default_hat\"\n",
       "\n",
       "$facVars\n",
       "[1] \"Default\" \"history\" \"purpose\" \"foreign\" \"rent\"   \n",
       "\n",
       "$lvls\n",
       "$lvls$Default\n",
       "[1] \"No\" \"Si\"\n",
       "\n",
       "$lvls$history\n",
       "[1] \"buena\"    \"mala\"     \"terrible\"\n",
       "\n",
       "$lvls$purpose\n",
       "[1] \"auto_nuevo\" \"auto_usado\" \"bienes\"     \"educacion\"  \"negocios\"  \n",
       "\n",
       "$lvls$foreign\n",
       "[1] \"extranjero\" \"aleman\"    \n",
       "\n",
       "$lvls$rent\n",
       "[1] NA      \"FALSE\" \"TRUE\" \n",
       "\n",
       "\n",
       "$sep\n",
       "[1] \".\"\n"
      ]
     },
     "metadata": {},
     "output_type": "display_data"
    }
   ],
   "source": [
    "p_load(\"caret\")\n",
    "dmy <- dummyVars(\" ~ .\", data = credit) # One-hot-encoding\n",
    "head(dmy)"
   ]
  },
  {
   "cell_type": "code",
   "execution_count": 12,
   "id": "25a948cd",
   "metadata": {},
   "outputs": [],
   "source": [
    "credit <- data.frame(predict(dmy, newdata = credit))"
   ]
  },
  {
   "cell_type": "code",
   "execution_count": 13,
   "id": "860033e7",
   "metadata": {},
   "outputs": [
    {
     "data": {
      "text/html": [
       "<table class=\"dataframe\">\n",
       "<caption>A data.frame: 6 × 21</caption>\n",
       "<thead>\n",
       "\t<tr><th></th><th scope=col>Default.No</th><th scope=col>Default.Si</th><th scope=col>duration</th><th scope=col>amount</th><th scope=col>installment</th><th scope=col>age</th><th scope=col>history.buena</th><th scope=col>history.mala</th><th scope=col>history.terrible</th><th scope=col>purpose.auto_nuevo</th><th scope=col>⋯</th><th scope=col>purpose.bienes</th><th scope=col>purpose.educacion</th><th scope=col>purpose.negocios</th><th scope=col>foreign.extranjero</th><th scope=col>foreign.aleman</th><th scope=col>rent.NA</th><th scope=col>rent.FALSE</th><th scope=col>rent.TRUE</th><th scope=col>prob_hat</th><th scope=col>Default_hat</th></tr>\n",
       "\t<tr><th></th><th scope=col>&lt;dbl&gt;</th><th scope=col>&lt;dbl&gt;</th><th scope=col>&lt;dbl&gt;</th><th scope=col>&lt;dbl&gt;</th><th scope=col>&lt;dbl&gt;</th><th scope=col>&lt;dbl&gt;</th><th scope=col>&lt;dbl&gt;</th><th scope=col>&lt;dbl&gt;</th><th scope=col>&lt;dbl&gt;</th><th scope=col>&lt;dbl&gt;</th><th scope=col>⋯</th><th scope=col>&lt;dbl&gt;</th><th scope=col>&lt;dbl&gt;</th><th scope=col>&lt;dbl&gt;</th><th scope=col>&lt;dbl&gt;</th><th scope=col>&lt;dbl&gt;</th><th scope=col>&lt;dbl&gt;</th><th scope=col>&lt;dbl&gt;</th><th scope=col>&lt;dbl&gt;</th><th scope=col>&lt;dbl&gt;</th><th scope=col>&lt;dbl&gt;</th></tr>\n",
       "</thead>\n",
       "<tbody>\n",
       "\t<tr><th scope=row>1</th><td>1</td><td>0</td><td> 6</td><td>1169</td><td>4</td><td>67</td><td>0</td><td>0</td><td>1</td><td>0</td><td>⋯</td><td>1</td><td>0</td><td>0</td><td>1</td><td>0</td><td>0</td><td>1</td><td>0</td><td>0.06602463</td><td>0</td></tr>\n",
       "\t<tr><th scope=row>2</th><td>0</td><td>1</td><td>48</td><td>5951</td><td>2</td><td>22</td><td>0</td><td>1</td><td>0</td><td>0</td><td>⋯</td><td>1</td><td>0</td><td>0</td><td>1</td><td>0</td><td>0</td><td>1</td><td>0</td><td>0.48318910</td><td>0</td></tr>\n",
       "\t<tr><th scope=row>3</th><td>1</td><td>0</td><td>12</td><td>2096</td><td>2</td><td>49</td><td>0</td><td>0</td><td>1</td><td>0</td><td>⋯</td><td>0</td><td>1</td><td>0</td><td>1</td><td>0</td><td>0</td><td>1</td><td>0</td><td>0.12179580</td><td>0</td></tr>\n",
       "\t<tr><th scope=row>4</th><td>1</td><td>0</td><td>42</td><td>7882</td><td>2</td><td>45</td><td>0</td><td>1</td><td>0</td><td>0</td><td>⋯</td><td>1</td><td>0</td><td>0</td><td>1</td><td>0</td><td>0</td><td>1</td><td>0</td><td>0.39995570</td><td>0</td></tr>\n",
       "\t<tr><th scope=row>5</th><td>0</td><td>1</td><td>24</td><td>4870</td><td>3</td><td>53</td><td>0</td><td>1</td><td>0</td><td>1</td><td>⋯</td><td>0</td><td>0</td><td>0</td><td>1</td><td>0</td><td>0</td><td>1</td><td>0</td><td>0.42139444</td><td>0</td></tr>\n",
       "\t<tr><th scope=row>6</th><td>1</td><td>0</td><td>36</td><td>9055</td><td>2</td><td>35</td><td>0</td><td>1</td><td>0</td><td>0</td><td>⋯</td><td>0</td><td>1</td><td>0</td><td>1</td><td>0</td><td>0</td><td>1</td><td>0</td><td>0.57856013</td><td>1</td></tr>\n",
       "</tbody>\n",
       "</table>\n"
      ],
      "text/latex": [
       "A data.frame: 6 × 21\n",
       "\\begin{tabular}{r|lllllllllllllllllllll}\n",
       "  & Default.No & Default.Si & duration & amount & installment & age & history.buena & history.mala & history.terrible & purpose.auto\\_nuevo & ⋯ & purpose.bienes & purpose.educacion & purpose.negocios & foreign.extranjero & foreign.aleman & rent.NA & rent.FALSE & rent.TRUE & prob\\_hat & Default\\_hat\\\\\n",
       "  & <dbl> & <dbl> & <dbl> & <dbl> & <dbl> & <dbl> & <dbl> & <dbl> & <dbl> & <dbl> & ⋯ & <dbl> & <dbl> & <dbl> & <dbl> & <dbl> & <dbl> & <dbl> & <dbl> & <dbl> & <dbl>\\\\\n",
       "\\hline\n",
       "\t1 & 1 & 0 &  6 & 1169 & 4 & 67 & 0 & 0 & 1 & 0 & ⋯ & 1 & 0 & 0 & 1 & 0 & 0 & 1 & 0 & 0.06602463 & 0\\\\\n",
       "\t2 & 0 & 1 & 48 & 5951 & 2 & 22 & 0 & 1 & 0 & 0 & ⋯ & 1 & 0 & 0 & 1 & 0 & 0 & 1 & 0 & 0.48318910 & 0\\\\\n",
       "\t3 & 1 & 0 & 12 & 2096 & 2 & 49 & 0 & 0 & 1 & 0 & ⋯ & 0 & 1 & 0 & 1 & 0 & 0 & 1 & 0 & 0.12179580 & 0\\\\\n",
       "\t4 & 1 & 0 & 42 & 7882 & 2 & 45 & 0 & 1 & 0 & 0 & ⋯ & 1 & 0 & 0 & 1 & 0 & 0 & 1 & 0 & 0.39995570 & 0\\\\\n",
       "\t5 & 0 & 1 & 24 & 4870 & 3 & 53 & 0 & 1 & 0 & 1 & ⋯ & 0 & 0 & 0 & 1 & 0 & 0 & 1 & 0 & 0.42139444 & 0\\\\\n",
       "\t6 & 1 & 0 & 36 & 9055 & 2 & 35 & 0 & 1 & 0 & 0 & ⋯ & 0 & 1 & 0 & 1 & 0 & 0 & 1 & 0 & 0.57856013 & 1\\\\\n",
       "\\end{tabular}\n"
      ],
      "text/markdown": [
       "\n",
       "A data.frame: 6 × 21\n",
       "\n",
       "| <!--/--> | Default.No &lt;dbl&gt; | Default.Si &lt;dbl&gt; | duration &lt;dbl&gt; | amount &lt;dbl&gt; | installment &lt;dbl&gt; | age &lt;dbl&gt; | history.buena &lt;dbl&gt; | history.mala &lt;dbl&gt; | history.terrible &lt;dbl&gt; | purpose.auto_nuevo &lt;dbl&gt; | ⋯ ⋯ | purpose.bienes &lt;dbl&gt; | purpose.educacion &lt;dbl&gt; | purpose.negocios &lt;dbl&gt; | foreign.extranjero &lt;dbl&gt; | foreign.aleman &lt;dbl&gt; | rent.NA &lt;dbl&gt; | rent.FALSE &lt;dbl&gt; | rent.TRUE &lt;dbl&gt; | prob_hat &lt;dbl&gt; | Default_hat &lt;dbl&gt; |\n",
       "|---|---|---|---|---|---|---|---|---|---|---|---|---|---|---|---|---|---|---|---|---|---|\n",
       "| 1 | 1 | 0 |  6 | 1169 | 4 | 67 | 0 | 0 | 1 | 0 | ⋯ | 1 | 0 | 0 | 1 | 0 | 0 | 1 | 0 | 0.06602463 | 0 |\n",
       "| 2 | 0 | 1 | 48 | 5951 | 2 | 22 | 0 | 1 | 0 | 0 | ⋯ | 1 | 0 | 0 | 1 | 0 | 0 | 1 | 0 | 0.48318910 | 0 |\n",
       "| 3 | 1 | 0 | 12 | 2096 | 2 | 49 | 0 | 0 | 1 | 0 | ⋯ | 0 | 1 | 0 | 1 | 0 | 0 | 1 | 0 | 0.12179580 | 0 |\n",
       "| 4 | 1 | 0 | 42 | 7882 | 2 | 45 | 0 | 1 | 0 | 0 | ⋯ | 1 | 0 | 0 | 1 | 0 | 0 | 1 | 0 | 0.39995570 | 0 |\n",
       "| 5 | 0 | 1 | 24 | 4870 | 3 | 53 | 0 | 1 | 0 | 1 | ⋯ | 0 | 0 | 0 | 1 | 0 | 0 | 1 | 0 | 0.42139444 | 0 |\n",
       "| 6 | 1 | 0 | 36 | 9055 | 2 | 35 | 0 | 1 | 0 | 0 | ⋯ | 0 | 1 | 0 | 1 | 0 | 0 | 1 | 0 | 0.57856013 | 1 |\n",
       "\n"
      ],
      "text/plain": [
       "  Default.No Default.Si duration amount installment age history.buena\n",
       "1 1          0           6       1169   4           67  0            \n",
       "2 0          1          48       5951   2           22  0            \n",
       "3 1          0          12       2096   2           49  0            \n",
       "4 1          0          42       7882   2           45  0            \n",
       "5 0          1          24       4870   3           53  0            \n",
       "6 1          0          36       9055   2           35  0            \n",
       "  history.mala history.terrible purpose.auto_nuevo ⋯ purpose.bienes\n",
       "1 0            1                0                  ⋯ 1             \n",
       "2 1            0                0                  ⋯ 1             \n",
       "3 0            1                0                  ⋯ 0             \n",
       "4 1            0                0                  ⋯ 1             \n",
       "5 1            0                1                  ⋯ 0             \n",
       "6 1            0                0                  ⋯ 0             \n",
       "  purpose.educacion purpose.negocios foreign.extranjero foreign.aleman rent.NA\n",
       "1 0                 0                1                  0              0      \n",
       "2 0                 0                1                  0              0      \n",
       "3 1                 0                1                  0              0      \n",
       "4 0                 0                1                  0              0      \n",
       "5 0                 0                1                  0              0      \n",
       "6 1                 0                1                  0              0      \n",
       "  rent.FALSE rent.TRUE prob_hat   Default_hat\n",
       "1 1          0         0.06602463 0          \n",
       "2 1          0         0.48318910 0          \n",
       "3 1          0         0.12179580 0          \n",
       "4 1          0         0.39995570 0          \n",
       "5 1          0         0.42139444 0          \n",
       "6 1          0         0.57856013 1          "
      ]
     },
     "metadata": {},
     "output_type": "display_data"
    }
   ],
   "source": [
    "head(credit)"
   ]
  },
  {
   "cell_type": "markdown",
   "id": "734bbb33",
   "metadata": {},
   "source": [
    "## Out of sample prediction"
   ]
  },
  {
   "cell_type": "code",
   "execution_count": 14,
   "id": "d30a67e6",
   "metadata": {},
   "outputs": [],
   "source": [
    "credit<- credit  %>% mutate(Default=factor(Default.Si,levels=c(0,1),labels=c(\"No\",\"Si\")))"
   ]
  },
  {
   "cell_type": "code",
   "execution_count": 15,
   "id": "a3468164",
   "metadata": {},
   "outputs": [],
   "source": [
    "inTrain <- createDataPartition(\n",
    "  y = credit$Default.Si,## La variable dependiente u objetivo \n",
    "  p = .7, ## Usamos 70%  de los datos en el conjunto de entrenamiento \n",
    "  list = FALSE)\n",
    "\n",
    "\n",
    "train <- credit[ inTrain,]\n",
    "test  <- credit[-inTrain,]"
   ]
  },
  {
   "cell_type": "code",
   "execution_count": 16,
   "id": "451cc45c",
   "metadata": {},
   "outputs": [
    {
     "data": {
      "text/html": [
       "<table class=\"dataframe\">\n",
       "<caption>A data.frame: 6 × 22</caption>\n",
       "<thead>\n",
       "\t<tr><th></th><th scope=col>Default.No</th><th scope=col>Default.Si</th><th scope=col>duration</th><th scope=col>amount</th><th scope=col>installment</th><th scope=col>age</th><th scope=col>history.buena</th><th scope=col>history.mala</th><th scope=col>history.terrible</th><th scope=col>purpose.auto_nuevo</th><th scope=col>⋯</th><th scope=col>purpose.educacion</th><th scope=col>purpose.negocios</th><th scope=col>foreign.extranjero</th><th scope=col>foreign.aleman</th><th scope=col>rent.NA</th><th scope=col>rent.FALSE</th><th scope=col>rent.TRUE</th><th scope=col>prob_hat</th><th scope=col>Default_hat</th><th scope=col>Default</th></tr>\n",
       "\t<tr><th></th><th scope=col>&lt;dbl&gt;</th><th scope=col>&lt;dbl&gt;</th><th scope=col>&lt;dbl&gt;</th><th scope=col>&lt;dbl&gt;</th><th scope=col>&lt;dbl&gt;</th><th scope=col>&lt;dbl&gt;</th><th scope=col>&lt;dbl&gt;</th><th scope=col>&lt;dbl&gt;</th><th scope=col>&lt;dbl&gt;</th><th scope=col>&lt;dbl&gt;</th><th scope=col>⋯</th><th scope=col>&lt;dbl&gt;</th><th scope=col>&lt;dbl&gt;</th><th scope=col>&lt;dbl&gt;</th><th scope=col>&lt;dbl&gt;</th><th scope=col>&lt;dbl&gt;</th><th scope=col>&lt;dbl&gt;</th><th scope=col>&lt;dbl&gt;</th><th scope=col>&lt;dbl&gt;</th><th scope=col>&lt;dbl&gt;</th><th scope=col>&lt;fct&gt;</th></tr>\n",
       "</thead>\n",
       "<tbody>\n",
       "\t<tr><th scope=row>2</th><td>0</td><td>1</td><td>48</td><td>5951</td><td>2</td><td>22</td><td>0</td><td>1</td><td>0</td><td>0</td><td>⋯</td><td>0</td><td>0</td><td>1</td><td>0</td><td>0</td><td>1</td><td>0</td><td>0.4831891</td><td>0</td><td>Si</td></tr>\n",
       "\t<tr><th scope=row>3</th><td>1</td><td>0</td><td>12</td><td>2096</td><td>2</td><td>49</td><td>0</td><td>0</td><td>1</td><td>0</td><td>⋯</td><td>1</td><td>0</td><td>1</td><td>0</td><td>0</td><td>1</td><td>0</td><td>0.1217958</td><td>0</td><td>No</td></tr>\n",
       "\t<tr><th scope=row>5</th><td>0</td><td>1</td><td>24</td><td>4870</td><td>3</td><td>53</td><td>0</td><td>1</td><td>0</td><td>1</td><td>⋯</td><td>0</td><td>0</td><td>1</td><td>0</td><td>0</td><td>1</td><td>0</td><td>0.4213944</td><td>0</td><td>Si</td></tr>\n",
       "\t<tr><th scope=row>6</th><td>1</td><td>0</td><td>36</td><td>9055</td><td>2</td><td>35</td><td>0</td><td>1</td><td>0</td><td>0</td><td>⋯</td><td>1</td><td>0</td><td>1</td><td>0</td><td>0</td><td>1</td><td>0</td><td>0.5785601</td><td>1</td><td>No</td></tr>\n",
       "\t<tr><th scope=row>9</th><td>1</td><td>0</td><td>12</td><td>3059</td><td>2</td><td>61</td><td>0</td><td>1</td><td>0</td><td>0</td><td>⋯</td><td>0</td><td>0</td><td>1</td><td>0</td><td>0</td><td>1</td><td>0</td><td>0.1263817</td><td>0</td><td>No</td></tr>\n",
       "\t<tr><th scope=row>11</th><td>0</td><td>1</td><td>12</td><td>1295</td><td>3</td><td>25</td><td>0</td><td>1</td><td>0</td><td>1</td><td>⋯</td><td>0</td><td>0</td><td>1</td><td>0</td><td>0</td><td>0</td><td>1</td><td>0.5076477</td><td>1</td><td>Si</td></tr>\n",
       "</tbody>\n",
       "</table>\n"
      ],
      "text/latex": [
       "A data.frame: 6 × 22\n",
       "\\begin{tabular}{r|lllllllllllllllllllll}\n",
       "  & Default.No & Default.Si & duration & amount & installment & age & history.buena & history.mala & history.terrible & purpose.auto\\_nuevo & ⋯ & purpose.educacion & purpose.negocios & foreign.extranjero & foreign.aleman & rent.NA & rent.FALSE & rent.TRUE & prob\\_hat & Default\\_hat & Default\\\\\n",
       "  & <dbl> & <dbl> & <dbl> & <dbl> & <dbl> & <dbl> & <dbl> & <dbl> & <dbl> & <dbl> & ⋯ & <dbl> & <dbl> & <dbl> & <dbl> & <dbl> & <dbl> & <dbl> & <dbl> & <dbl> & <fct>\\\\\n",
       "\\hline\n",
       "\t2 & 0 & 1 & 48 & 5951 & 2 & 22 & 0 & 1 & 0 & 0 & ⋯ & 0 & 0 & 1 & 0 & 0 & 1 & 0 & 0.4831891 & 0 & Si\\\\\n",
       "\t3 & 1 & 0 & 12 & 2096 & 2 & 49 & 0 & 0 & 1 & 0 & ⋯ & 1 & 0 & 1 & 0 & 0 & 1 & 0 & 0.1217958 & 0 & No\\\\\n",
       "\t5 & 0 & 1 & 24 & 4870 & 3 & 53 & 0 & 1 & 0 & 1 & ⋯ & 0 & 0 & 1 & 0 & 0 & 1 & 0 & 0.4213944 & 0 & Si\\\\\n",
       "\t6 & 1 & 0 & 36 & 9055 & 2 & 35 & 0 & 1 & 0 & 0 & ⋯ & 1 & 0 & 1 & 0 & 0 & 1 & 0 & 0.5785601 & 1 & No\\\\\n",
       "\t9 & 1 & 0 & 12 & 3059 & 2 & 61 & 0 & 1 & 0 & 0 & ⋯ & 0 & 0 & 1 & 0 & 0 & 1 & 0 & 0.1263817 & 0 & No\\\\\n",
       "\t11 & 0 & 1 & 12 & 1295 & 3 & 25 & 0 & 1 & 0 & 1 & ⋯ & 0 & 0 & 1 & 0 & 0 & 0 & 1 & 0.5076477 & 1 & Si\\\\\n",
       "\\end{tabular}\n"
      ],
      "text/markdown": [
       "\n",
       "A data.frame: 6 × 22\n",
       "\n",
       "| <!--/--> | Default.No &lt;dbl&gt; | Default.Si &lt;dbl&gt; | duration &lt;dbl&gt; | amount &lt;dbl&gt; | installment &lt;dbl&gt; | age &lt;dbl&gt; | history.buena &lt;dbl&gt; | history.mala &lt;dbl&gt; | history.terrible &lt;dbl&gt; | purpose.auto_nuevo &lt;dbl&gt; | ⋯ ⋯ | purpose.educacion &lt;dbl&gt; | purpose.negocios &lt;dbl&gt; | foreign.extranjero &lt;dbl&gt; | foreign.aleman &lt;dbl&gt; | rent.NA &lt;dbl&gt; | rent.FALSE &lt;dbl&gt; | rent.TRUE &lt;dbl&gt; | prob_hat &lt;dbl&gt; | Default_hat &lt;dbl&gt; | Default &lt;fct&gt; |\n",
       "|---|---|---|---|---|---|---|---|---|---|---|---|---|---|---|---|---|---|---|---|---|---|\n",
       "| 2 | 0 | 1 | 48 | 5951 | 2 | 22 | 0 | 1 | 0 | 0 | ⋯ | 0 | 0 | 1 | 0 | 0 | 1 | 0 | 0.4831891 | 0 | Si |\n",
       "| 3 | 1 | 0 | 12 | 2096 | 2 | 49 | 0 | 0 | 1 | 0 | ⋯ | 1 | 0 | 1 | 0 | 0 | 1 | 0 | 0.1217958 | 0 | No |\n",
       "| 5 | 0 | 1 | 24 | 4870 | 3 | 53 | 0 | 1 | 0 | 1 | ⋯ | 0 | 0 | 1 | 0 | 0 | 1 | 0 | 0.4213944 | 0 | Si |\n",
       "| 6 | 1 | 0 | 36 | 9055 | 2 | 35 | 0 | 1 | 0 | 0 | ⋯ | 1 | 0 | 1 | 0 | 0 | 1 | 0 | 0.5785601 | 1 | No |\n",
       "| 9 | 1 | 0 | 12 | 3059 | 2 | 61 | 0 | 1 | 0 | 0 | ⋯ | 0 | 0 | 1 | 0 | 0 | 1 | 0 | 0.1263817 | 0 | No |\n",
       "| 11 | 0 | 1 | 12 | 1295 | 3 | 25 | 0 | 1 | 0 | 1 | ⋯ | 0 | 0 | 1 | 0 | 0 | 0 | 1 | 0.5076477 | 1 | Si |\n",
       "\n"
      ],
      "text/plain": [
       "   Default.No Default.Si duration amount installment age history.buena\n",
       "2  0          1          48       5951   2           22  0            \n",
       "3  1          0          12       2096   2           49  0            \n",
       "5  0          1          24       4870   3           53  0            \n",
       "6  1          0          36       9055   2           35  0            \n",
       "9  1          0          12       3059   2           61  0            \n",
       "11 0          1          12       1295   3           25  0            \n",
       "   history.mala history.terrible purpose.auto_nuevo ⋯ purpose.educacion\n",
       "2  1            0                0                  ⋯ 0                \n",
       "3  0            1                0                  ⋯ 1                \n",
       "5  1            0                1                  ⋯ 0                \n",
       "6  1            0                0                  ⋯ 1                \n",
       "9  1            0                0                  ⋯ 0                \n",
       "11 1            0                1                  ⋯ 0                \n",
       "   purpose.negocios foreign.extranjero foreign.aleman rent.NA rent.FALSE\n",
       "2  0                1                  0              0       1         \n",
       "3  0                1                  0              0       1         \n",
       "5  0                1                  0              0       1         \n",
       "6  0                1                  0              0       1         \n",
       "9  0                1                  0              0       1         \n",
       "11 0                1                  0              0       0         \n",
       "   rent.TRUE prob_hat  Default_hat Default\n",
       "2  0         0.4831891 0           Si     \n",
       "3  0         0.1217958 0           No     \n",
       "5  0         0.4213944 0           Si     \n",
       "6  0         0.5785601 1           No     \n",
       "9  0         0.1263817 0           No     \n",
       "11 1         0.5076477 1           Si     "
      ]
     },
     "metadata": {},
     "output_type": "display_data"
    }
   ],
   "source": [
    "head(train)"
   ]
  },
  {
   "cell_type": "markdown",
   "id": "d0e60faf",
   "metadata": {},
   "source": [
    "### Logit"
   ]
  },
  {
   "cell_type": "code",
   "execution_count": 17,
   "id": "2b6bdaef",
   "metadata": {},
   "outputs": [],
   "source": [
    "ctrl<- trainControl(method = \"cv\",\n",
    "                    number = 5,\n",
    "                    classProbs = TRUE,\n",
    "                    verbose=FALSE,\n",
    "                    savePredictions = T)\n"
   ]
  },
  {
   "cell_type": "code",
   "execution_count": 18,
   "id": "7ac9f557",
   "metadata": {
    "scrolled": true
   },
   "outputs": [
    {
     "data": {
      "text/plain": [
       "Generalized Linear Model \n",
       "\n",
       "700 samples\n",
       " 12 predictor\n",
       "  2 classes: 'No', 'Si' \n",
       "\n",
       "No pre-processing\n",
       "Resampling: Cross-Validated (5 fold) \n",
       "Summary of sample sizes: 560, 561, 559, 560, 560 \n",
       "Resampling results:\n",
       "\n",
       "  Accuracy   Kappa  \n",
       "  0.7185148  0.14365\n"
      ]
     },
     "metadata": {},
     "output_type": "display_data"
    }
   ],
   "source": [
    "set.seed(1410)\n",
    "mylogit_caret <- train(Default~duration+amount+installment+age+\n",
    "                       history.buena+history.mala+\n",
    "                       purpose.auto_nuevo+purpose.auto_usado+purpose.bienes+purpose.educacion+\n",
    "                       foreign.extranjero+\n",
    "                       +rent.TRUE, \n",
    "                       data = train, \n",
    "                       method = \"glm\",\n",
    "                       trControl = ctrl,\n",
    "                       family = \"binomial\")\n",
    "\n",
    "\n",
    "mylogit_caret"
   ]
  },
  {
   "cell_type": "code",
   "execution_count": 19,
   "id": "8d6e31c8",
   "metadata": {},
   "outputs": [],
   "source": [
    "predictTest_logit <- data.frame(\n",
    "  obs = test$Default,                                    ## observed class labels\n",
    "  predict(mylogit_caret, newdata = test, type = \"prob\"),         ## predicted class probabilities\n",
    "  pred = predict(mylogit_caret, newdata = test, type = \"raw\")    ## predicted class labels\n",
    ")\n"
   ]
  },
  {
   "cell_type": "code",
   "execution_count": 20,
   "id": "15166903",
   "metadata": {},
   "outputs": [
    {
     "data": {
      "text/html": [
       "<table class=\"dataframe\">\n",
       "<caption>A data.frame: 6 × 4</caption>\n",
       "<thead>\n",
       "\t<tr><th></th><th scope=col>obs</th><th scope=col>No</th><th scope=col>Si</th><th scope=col>pred</th></tr>\n",
       "\t<tr><th></th><th scope=col>&lt;fct&gt;</th><th scope=col>&lt;dbl&gt;</th><th scope=col>&lt;dbl&gt;</th><th scope=col>&lt;fct&gt;</th></tr>\n",
       "</thead>\n",
       "<tbody>\n",
       "\t<tr><th scope=row>1</th><td>No</td><td>0.9495503</td><td>0.05044975</td><td>No</td></tr>\n",
       "\t<tr><th scope=row>4</th><td>No</td><td>0.6613619</td><td>0.33863813</td><td>No</td></tr>\n",
       "\t<tr><th scope=row>7</th><td>No</td><td>0.8174441</td><td>0.18255586</td><td>No</td></tr>\n",
       "\t<tr><th scope=row>8</th><td>No</td><td>0.7748455</td><td>0.22515449</td><td>No</td></tr>\n",
       "\t<tr><th scope=row>10</th><td>Si</td><td>0.6093878</td><td>0.39061224</td><td>No</td></tr>\n",
       "\t<tr><th scope=row>14</th><td>Si</td><td>0.8519662</td><td>0.14803376</td><td>No</td></tr>\n",
       "</tbody>\n",
       "</table>\n"
      ],
      "text/latex": [
       "A data.frame: 6 × 4\n",
       "\\begin{tabular}{r|llll}\n",
       "  & obs & No & Si & pred\\\\\n",
       "  & <fct> & <dbl> & <dbl> & <fct>\\\\\n",
       "\\hline\n",
       "\t1 & No & 0.9495503 & 0.05044975 & No\\\\\n",
       "\t4 & No & 0.6613619 & 0.33863813 & No\\\\\n",
       "\t7 & No & 0.8174441 & 0.18255586 & No\\\\\n",
       "\t8 & No & 0.7748455 & 0.22515449 & No\\\\\n",
       "\t10 & Si & 0.6093878 & 0.39061224 & No\\\\\n",
       "\t14 & Si & 0.8519662 & 0.14803376 & No\\\\\n",
       "\\end{tabular}\n"
      ],
      "text/markdown": [
       "\n",
       "A data.frame: 6 × 4\n",
       "\n",
       "| <!--/--> | obs &lt;fct&gt; | No &lt;dbl&gt; | Si &lt;dbl&gt; | pred &lt;fct&gt; |\n",
       "|---|---|---|---|---|\n",
       "| 1 | No | 0.9495503 | 0.05044975 | No |\n",
       "| 4 | No | 0.6613619 | 0.33863813 | No |\n",
       "| 7 | No | 0.8174441 | 0.18255586 | No |\n",
       "| 8 | No | 0.7748455 | 0.22515449 | No |\n",
       "| 10 | Si | 0.6093878 | 0.39061224 | No |\n",
       "| 14 | Si | 0.8519662 | 0.14803376 | No |\n",
       "\n"
      ],
      "text/plain": [
       "   obs No        Si         pred\n",
       "1  No  0.9495503 0.05044975 No  \n",
       "4  No  0.6613619 0.33863813 No  \n",
       "7  No  0.8174441 0.18255586 No  \n",
       "8  No  0.7748455 0.22515449 No  \n",
       "10 Si  0.6093878 0.39061224 No  \n",
       "14 Si  0.8519662 0.14803376 No  "
      ]
     },
     "metadata": {},
     "output_type": "display_data"
    }
   ],
   "source": [
    "head(predictTest_logit)"
   ]
  },
  {
   "cell_type": "markdown",
   "id": "388e1695",
   "metadata": {},
   "source": [
    "## Árboles"
   ]
  },
  {
   "cell_type": "code",
   "execution_count": 22,
   "id": "88970135",
   "metadata": {},
   "outputs": [
    {
     "data": {
      "text/plain": [
       "CART \n",
       "\n",
       "700 samples\n",
       " 12 predictor\n",
       "  2 classes: 'No', 'Si' \n",
       "\n",
       "No pre-processing\n",
       "Resampling: Cross-Validated (5 fold) \n",
       "Summary of sample sizes: 560, 561, 559, 560, 560 \n",
       "Resampling results across tuning parameters:\n",
       "\n",
       "  cp            Accuracy   Kappa     \n",
       "  0.0000000000  0.6886471  0.18966879\n",
       "  0.0004686036  0.6886471  0.18966879\n",
       "  0.0009372071  0.6886471  0.18966879\n",
       "  0.0014058107  0.6886471  0.18966879\n",
       "  0.0018744142  0.6886471  0.18966879\n",
       "  0.0023430178  0.6944025  0.20056834\n",
       "  0.0028116214  0.6929636  0.19260697\n",
       "  0.0032802249  0.6972289  0.19129958\n",
       "  0.0037488285  0.6986575  0.19375656\n",
       "  0.0042174321  0.6986575  0.19375656\n",
       "  0.0046860356  0.6986575  0.18882515\n",
       "  0.0051546392  0.6986575  0.18882515\n",
       "  0.0056232427  0.7000861  0.19152098\n",
       "  0.0060918463  0.7000861  0.19152098\n",
       "  0.0065604499  0.7029432  0.18820186\n",
       "  0.0070290534  0.7029432  0.18820186\n",
       "  0.0074976570  0.7029432  0.18820186\n",
       "  0.0079662605  0.7029432  0.18820186\n",
       "  0.0084348641  0.7029432  0.18820186\n",
       "  0.0089034677  0.7029432  0.17708095\n",
       "  0.0093720712  0.7029432  0.17708095\n",
       "  0.0098406748  0.7158004  0.18965841\n",
       "  0.0103092784  0.7158004  0.18965841\n",
       "  0.0107778819  0.7200760  0.19152586\n",
       "  0.0112464855  0.7200760  0.19152586\n",
       "  0.0117150890  0.7200760  0.19152586\n",
       "  0.0121836926  0.7200760  0.19152586\n",
       "  0.0126522962  0.7200760  0.19152586\n",
       "  0.0131208997  0.7200862  0.18257586\n",
       "  0.0135895033  0.7200862  0.18257586\n",
       "  0.0140581068  0.7200862  0.18257586\n",
       "  0.0145267104  0.7200862  0.18257586\n",
       "  0.0149953140  0.7200862  0.18257586\n",
       "  0.0154639175  0.7200862  0.18257586\n",
       "  0.0159325211  0.7200862  0.18257586\n",
       "  0.0164011246  0.7229434  0.18499772\n",
       "  0.0168697282  0.7229434  0.18499772\n",
       "  0.0173383318  0.7200862  0.16468228\n",
       "  0.0178069353  0.7200862  0.16468228\n",
       "  0.0182755389  0.7200862  0.16468228\n",
       "  0.0187441425  0.7200862  0.16468228\n",
       "  0.0192127460  0.7200862  0.16468228\n",
       "  0.0196813496  0.7243824  0.16795946\n",
       "  0.0201499531  0.7243824  0.16795946\n",
       "  0.0206185567  0.7243824  0.16795946\n",
       "  0.0210871603  0.7272192  0.16140940\n",
       "  0.0215557638  0.7272192  0.16140940\n",
       "  0.0220243674  0.7272192  0.16140940\n",
       "  0.0224929709  0.7272192  0.16140940\n",
       "  0.0229615745  0.7314948  0.16476927\n",
       "  0.0234301781  0.7314948  0.16476927\n",
       "  0.0238987816  0.7314948  0.16476927\n",
       "  0.0243673852  0.7314948  0.16476927\n",
       "  0.0248359888  0.7314948  0.16476927\n",
       "  0.0253045923  0.7314948  0.16476927\n",
       "  0.0257731959  0.7314948  0.16476927\n",
       "  0.0262417994  0.7286377  0.14626892\n",
       "  0.0267104030  0.7286377  0.14626892\n",
       "  0.0271790066  0.7286377  0.14626892\n",
       "  0.0276476101  0.7200046  0.08225180\n",
       "  0.0281162137  0.7200046  0.08225180\n",
       "  0.0285848172  0.7200046  0.08225180\n",
       "  0.0290534208  0.7185760  0.06393583\n",
       "  0.0295220244  0.7185760  0.06393583\n",
       "  0.0299906279  0.7185760  0.06393583\n",
       "  0.0304592315  0.7185760  0.06393583\n",
       "  0.0309278351  0.7185760  0.06393583\n",
       "  0.0313964386  0.7185760  0.06393583\n",
       "  0.0318650422  0.7185760  0.06393583\n",
       "  0.0323336457  0.7185760  0.06393583\n",
       "  0.0328022493  0.7185760  0.06393583\n",
       "  0.0332708529  0.7185760  0.06393583\n",
       "  0.0337394564  0.7185760  0.06393583\n",
       "  0.0342080600  0.7185760  0.06393583\n",
       "  0.0346766635  0.7185760  0.06393583\n",
       "  0.0351452671  0.7185760  0.06393583\n",
       "  0.0356138707  0.7185760  0.06393583\n",
       "  0.0360824742  0.7185760  0.06393583\n",
       "  0.0365510778  0.7185760  0.06393583\n",
       "  0.0370196813  0.7185760  0.06393583\n",
       "  0.0374882849  0.7185760  0.06393583\n",
       "  0.0379568885  0.7185760  0.06393583\n",
       "  0.0384254920  0.7185760  0.06393583\n",
       "  0.0388940956  0.7142903  0.02480400\n",
       "  0.0393626992  0.7142903  0.02480400\n",
       "  0.0398313027  0.7142903  0.02480400\n",
       "  0.0402999063  0.7142903  0.02480400\n",
       "  0.0407685098  0.7142903  0.02480400\n",
       "  0.0412371134  0.7142903  0.02480400\n",
       "  0.0417057170  0.7142903  0.02480400\n",
       "  0.0421743205  0.7142903  0.02480400\n",
       "  0.0426429241  0.7142903  0.02480400\n",
       "  0.0431115276  0.7142903  0.02480400\n",
       "  0.0435801312  0.7142903  0.02480400\n",
       "  0.0440487348  0.7142903  0.02480400\n",
       "  0.0445173383  0.7142903  0.02480400\n",
       "  0.0449859419  0.7142903  0.02480400\n",
       "  0.0454545455  0.7142903  0.02480400\n",
       "  0.0459231490  0.7142903  0.02480400\n",
       "  0.0463917526  0.7142903  0.02480400\n",
       "\n",
       "Accuracy was used to select the optimal model using the largest value.\n",
       "The final value used for the model was cp = 0.0257732."
      ]
     },
     "metadata": {},
     "output_type": "display_data"
    }
   ],
   "source": [
    "\n",
    "set.seed(123)\n",
    "class_arboles <- train(Default~duration+amount+installment+age+\n",
    "                       history.buena+history.mala+\n",
    "                       purpose.auto_nuevo+purpose.auto_usado+purpose.bienes+purpose.educacion+\n",
    "                       foreign.extranjero+\n",
    "                       +rent.TRUE, \n",
    "                       data = train, \n",
    "                       method = \"rpart\",\n",
    "                       trControl = ctrl,\n",
    "                        tuneLength=100)\n",
    "\n",
    "\n",
    "class_arboles"
   ]
  },
  {
   "cell_type": "code",
   "execution_count": 23,
   "id": "c8c44a6c",
   "metadata": {},
   "outputs": [
    {
     "data": {
      "text/html": [
       "<table class=\"dataframe\">\n",
       "<caption>A data.frame: 6 × 4</caption>\n",
       "<thead>\n",
       "\t<tr><th></th><th scope=col>obs</th><th scope=col>No</th><th scope=col>Si</th><th scope=col>pred</th></tr>\n",
       "\t<tr><th></th><th scope=col>&lt;fct&gt;</th><th scope=col>&lt;dbl&gt;</th><th scope=col>&lt;dbl&gt;</th><th scope=col>&lt;fct&gt;</th></tr>\n",
       "</thead>\n",
       "<tbody>\n",
       "\t<tr><th scope=row>1</th><td>No</td><td>0.7496112</td><td>0.2503888</td><td>No</td></tr>\n",
       "\t<tr><th scope=row>4</th><td>No</td><td>0.7496112</td><td>0.2503888</td><td>No</td></tr>\n",
       "\t<tr><th scope=row>7</th><td>No</td><td>0.7496112</td><td>0.2503888</td><td>No</td></tr>\n",
       "\t<tr><th scope=row>8</th><td>No</td><td>0.7496112</td><td>0.2503888</td><td>No</td></tr>\n",
       "\t<tr><th scope=row>10</th><td>Si</td><td>0.7496112</td><td>0.2503888</td><td>No</td></tr>\n",
       "\t<tr><th scope=row>14</th><td>Si</td><td>0.7496112</td><td>0.2503888</td><td>No</td></tr>\n",
       "</tbody>\n",
       "</table>\n"
      ],
      "text/latex": [
       "A data.frame: 6 × 4\n",
       "\\begin{tabular}{r|llll}\n",
       "  & obs & No & Si & pred\\\\\n",
       "  & <fct> & <dbl> & <dbl> & <fct>\\\\\n",
       "\\hline\n",
       "\t1 & No & 0.7496112 & 0.2503888 & No\\\\\n",
       "\t4 & No & 0.7496112 & 0.2503888 & No\\\\\n",
       "\t7 & No & 0.7496112 & 0.2503888 & No\\\\\n",
       "\t8 & No & 0.7496112 & 0.2503888 & No\\\\\n",
       "\t10 & Si & 0.7496112 & 0.2503888 & No\\\\\n",
       "\t14 & Si & 0.7496112 & 0.2503888 & No\\\\\n",
       "\\end{tabular}\n"
      ],
      "text/markdown": [
       "\n",
       "A data.frame: 6 × 4\n",
       "\n",
       "| <!--/--> | obs &lt;fct&gt; | No &lt;dbl&gt; | Si &lt;dbl&gt; | pred &lt;fct&gt; |\n",
       "|---|---|---|---|---|\n",
       "| 1 | No | 0.7496112 | 0.2503888 | No |\n",
       "| 4 | No | 0.7496112 | 0.2503888 | No |\n",
       "| 7 | No | 0.7496112 | 0.2503888 | No |\n",
       "| 8 | No | 0.7496112 | 0.2503888 | No |\n",
       "| 10 | Si | 0.7496112 | 0.2503888 | No |\n",
       "| 14 | Si | 0.7496112 | 0.2503888 | No |\n",
       "\n"
      ],
      "text/plain": [
       "   obs No        Si        pred\n",
       "1  No  0.7496112 0.2503888 No  \n",
       "4  No  0.7496112 0.2503888 No  \n",
       "7  No  0.7496112 0.2503888 No  \n",
       "8  No  0.7496112 0.2503888 No  \n",
       "10 Si  0.7496112 0.2503888 No  \n",
       "14 Si  0.7496112 0.2503888 No  "
      ]
     },
     "metadata": {},
     "output_type": "display_data"
    }
   ],
   "source": [
    "predictTest_arbol <- data.frame(\n",
    "  obs = test$Default,                                    ## observed class labels\n",
    "  predict(class_arboles, newdata = test, type = \"prob\"),         ## predicted class probabilities\n",
    "  pred = predict(class_arboles, newdata = test, type = \"raw\")    ## predicted class labels\n",
    ")\n",
    "\n",
    "head(predictTest_arbol)"
   ]
  },
  {
   "cell_type": "code",
   "execution_count": 24,
   "id": "68669498",
   "metadata": {},
   "outputs": [
    {
     "data": {
      "text/html": [
       "0.673333333333333"
      ],
      "text/latex": [
       "0.673333333333333"
      ],
      "text/markdown": [
       "0.673333333333333"
      ],
      "text/plain": [
       "[1] 0.6733333"
      ]
     },
     "metadata": {},
     "output_type": "display_data"
    }
   ],
   "source": [
    "# Accuracy\n",
    "mean(predictTest_arbol$obs==predictTest_arbol$pred)"
   ]
  },
  {
   "cell_type": "code",
   "execution_count": 25,
   "id": "c462ac2b",
   "metadata": {},
   "outputs": [
    {
     "data": {
      "image/png": "[encoded data removed]",
      "text/plain": [
       "plot without title"
      ]
     },
     "metadata": {
      "image/png": {
       "height": 420,
       "width": 420
      }
     },
     "output_type": "display_data"
    }
   ],
   "source": [
    "p_load(\"rpart.plot\")\n",
    "prp(class_arboles$finalModel, under = TRUE, branch.lty = 2, yesno = 2, faclen = 0, varlen=15,tweak=1.2,clip.facs= TRUE,box.palette = \"Greens\",compress=FALSE,ycompress = FALSE)"
   ]
  },
  {
   "cell_type": "markdown",
   "id": "1a895a29",
   "metadata": {},
   "source": [
    "## Bosques"
   ]
  },
  {
   "cell_type": "code",
   "execution_count": 26,
   "id": "404d1da6",
   "metadata": {},
   "outputs": [],
   "source": [
    "set.seed(123)\n",
    "\n",
    "class_bosques <- train(\n",
    "    Default~duration+amount+installment+age+\n",
    "                       history.buena+history.mala+\n",
    "                       purpose.auto_nuevo+purpose.auto_usado+purpose.bienes+purpose.educacion+\n",
    "                       foreign.extranjero+\n",
    "                       +rent.TRUE, \n",
    "    data=train,\n",
    "    method = \"ranger\",\n",
    "    trControl = ctrl,\n",
    "    tuneGrid=expand.grid(\n",
    "              mtry = c(1,2,3,4,5,6,7,8),\n",
    "              splitrule = \"gini\",\n",
    "              min.node.size = c(15,30,45,60))\n",
    ")"
   ]
  },
  {
   "cell_type": "code",
   "execution_count": 27,
   "id": "1b206c83",
   "metadata": {},
   "outputs": [
    {
     "data": {
      "text/plain": [
       "Random Forest \n",
       "\n",
       "700 samples\n",
       " 12 predictor\n",
       "  2 classes: 'No', 'Si' \n",
       "\n",
       "No pre-processing\n",
       "Resampling: Cross-Validated (5 fold) \n",
       "Summary of sample sizes: 560, 561, 559, 560, 560 \n",
       "Resampling results across tuning parameters:\n",
       "\n",
       "  mtry  min.node.size  Accuracy   Kappa     \n",
       "  1     15             0.7257189  0.01463238\n",
       "  1     30             0.7228617  0.00000000\n",
       "  1     45             0.7228617  0.00000000\n",
       "  1     60             0.7228617  0.00000000\n",
       "  2     15             0.7228823  0.08415766\n",
       "  2     30             0.7243109  0.07520758\n",
       "  2     45             0.7200149  0.03733218\n",
       "  2     60             0.7185863  0.02270171\n",
       "  3     15             0.7300353  0.16514766\n",
       "  3     30             0.7314128  0.15073343\n",
       "  3     45             0.7257294  0.10705687\n",
       "  3     60             0.7257087  0.09518359\n",
       "  4     15             0.7271780  0.18835057\n",
       "  4     30             0.7357598  0.19024799\n",
       "  4     45             0.7342905  0.16984246\n",
       "  4     60             0.7328723  0.15401397\n",
       "  5     15             0.7214841  0.18462676\n",
       "  5     30             0.7343110  0.20045353\n",
       "  5     45             0.7342906  0.18433105\n",
       "  5     60             0.7357193  0.17970633\n",
       "  6     15             0.7200249  0.19352948\n",
       "  6     30             0.7286066  0.19812159\n",
       "  6     45             0.7385765  0.21424183\n",
       "  6     60             0.7371579  0.19427608\n",
       "  7     15             0.7200249  0.18749957\n",
       "  7     30             0.7257393  0.18423370\n",
       "  7     45             0.7328415  0.20311953\n",
       "  7     60             0.7414437  0.20934073\n",
       "  8     15             0.7200351  0.19041554\n",
       "  8     30             0.7271679  0.19582839\n",
       "  8     45             0.7300251  0.20112097\n",
       "  8     60             0.7371476  0.20842934\n",
       "\n",
       "Tuning parameter 'splitrule' was held constant at a value of gini\n",
       "Accuracy was used to select the optimal model using the largest value.\n",
       "The final values used for the model were mtry = 7, splitrule = gini\n",
       " and min.node.size = 60."
      ]
     },
     "metadata": {},
     "output_type": "display_data"
    }
   ],
   "source": [
    "class_bosques"
   ]
  },
  {
   "cell_type": "code",
   "execution_count": 28,
   "id": "9401baa5",
   "metadata": {},
   "outputs": [],
   "source": [
    "predictTest_bosque <- data.frame(\n",
    "  obs = test$Default,                                    ## observed class labels\n",
    "  predict(class_bosques, newdata = test, type = \"prob\"),         ## predicted class probabilities\n",
    "  pred = predict(class_bosques, newdata = test, type = \"raw\")    ## predicted class labels\n",
    ")\n"
   ]
  },
  {
   "cell_type": "code",
   "execution_count": 29,
   "id": "0bc4495b",
   "metadata": {},
   "outputs": [
    {
     "data": {
      "text/html": [
       "0.703333333333333"
      ],
      "text/latex": [
       "0.703333333333333"
      ],
      "text/markdown": [
       "0.703333333333333"
      ],
      "text/plain": [
       "[1] 0.7033333"
      ]
     },
     "metadata": {},
     "output_type": "display_data"
    }
   ],
   "source": [
    "# Accuracy\n",
    "mean(predictTest_bosque$obs==predictTest_bosque$pred)"
   ]
  },
  {
   "cell_type": "markdown",
   "id": "4bcf0719",
   "metadata": {},
   "source": [
    "## AdaBoost"
   ]
  },
  {
   "cell_type": "code",
   "execution_count": 30,
   "id": "1d0df239",
   "metadata": {},
   "outputs": [],
   "source": [
    "p_load(\"adabag\")"
   ]
  },
  {
   "cell_type": "markdown",
   "id": "49c9da25",
   "metadata": {},
   "source": [
    "Tuning parameters:\n",
    "\n",
    "   - mfinal (#Trees)\n",
    "   - maxdepth (Max Tree Depth)\n",
    "   - coeflearn (Coefficient Type) \n",
    "       - ’Breiman’(by default), $\\alpha=\\frac{1}{2}ln\\left(\\frac{(1-err)}{err}\\right)$ \n",
    "       - ’Freund’ $\\alpha=ln\\left(\\frac{(1-err)}{err}\\right)$ \n"
   ]
  },
  {
   "cell_type": "code",
   "execution_count": 31,
   "id": "f8f48725",
   "metadata": {},
   "outputs": [],
   "source": [
    "set.seed(123)\n",
    "\n",
    "class_adaboost <- train(\n",
    "    Default~duration+amount+installment+age+\n",
    "                       history.buena+history.mala+\n",
    "                       purpose.auto_nuevo+purpose.auto_usado+purpose.bienes+purpose.educacion+\n",
    "                       foreign.extranjero+\n",
    "                       +rent.TRUE, \n",
    "    data=train,\n",
    "    method = \"AdaBoost.M1\",\n",
    "    trControl = ctrl,\n",
    "    tuneGrid=expand.grid(\n",
    "              mfinal = c(50,100,150),\n",
    "              maxdepth = c(1,2,3),\n",
    "              coeflearn = c('Breiman','Freund'))\n",
    ")"
   ]
  },
  {
   "cell_type": "code",
   "execution_count": 32,
   "id": "1829ba57",
   "metadata": {},
   "outputs": [
    {
     "data": {
      "text/plain": [
       "AdaBoost.M1 \n",
       "\n",
       "700 samples\n",
       " 12 predictor\n",
       "  2 classes: 'No', 'Si' \n",
       "\n",
       "No pre-processing\n",
       "Resampling: Cross-Validated (5 fold) \n",
       "Summary of sample sizes: 560, 561, 559, 560, 560 \n",
       "Resampling results across tuning parameters:\n",
       "\n",
       "  coeflearn  maxdepth  mfinal  Accuracy   Kappa        \n",
       "  Breiman    1          50     0.7143107   0.0356556792\n",
       "  Breiman    1         100     0.7114433   0.0050674355\n",
       "  Breiman    1         150     0.7085759  -0.0003434487\n",
       "  Breiman    2          50     0.7243515   0.1203032325\n",
       "  Breiman    2         100     0.7143408   0.1052505695\n",
       "  Breiman    2         150     0.7171573   0.1037756776\n",
       "  Breiman    3          50     0.7172598   0.1767630858\n",
       "  Breiman    3         100     0.7172088   0.1751191476\n",
       "  Breiman    3         150     0.7215354   0.1859835908\n",
       "  Freund     1          50     0.7328927   0.1417531958\n",
       "  Freund     1         100     0.7242905   0.1098597575\n",
       "  Freund     1         150     0.7185863   0.0882555762\n",
       "  Freund     2          50     0.7228714   0.1861981139\n",
       "  Freund     2         100     0.7343004   0.2029730350\n",
       "  Freund     2         150     0.7243514   0.1816284123\n",
       "  Freund     3          50     0.7058002   0.2124768926\n",
       "  Freund     3         100     0.7186375   0.2376777865\n",
       "  Freund     3         150     0.7029432   0.2058020041\n",
       "\n",
       "Accuracy was used to select the optimal model using the largest value.\n",
       "The final values used for the model were mfinal = 100, maxdepth = 2\n",
       " and coeflearn = Freund."
      ]
     },
     "metadata": {},
     "output_type": "display_data"
    }
   ],
   "source": [
    "class_adaboost"
   ]
  },
  {
   "cell_type": "code",
   "execution_count": 33,
   "id": "d277e4b3",
   "metadata": {},
   "outputs": [],
   "source": [
    "predictTest_ada <- data.frame(\n",
    "  obs = test$Default,                                    ## observed class labels\n",
    "  predict(class_adaboost, newdata = test, type = \"prob\"),         ## predicted class probabilities\n",
    "  pred = predict(class_adaboost, newdata = test, type = \"raw\")    ## predicted class labels\n",
    ")\n"
   ]
  },
  {
   "cell_type": "code",
   "execution_count": 34,
   "id": "8af9c705",
   "metadata": {},
   "outputs": [
    {
     "data": {
      "text/html": [
       "0.703333333333333"
      ],
      "text/latex": [
       "0.703333333333333"
      ],
      "text/markdown": [
       "0.703333333333333"
      ],
      "text/plain": [
       "[1] 0.7033333"
      ]
     },
     "metadata": {},
     "output_type": "display_data"
    }
   ],
   "source": [
    "# Accuracy\n",
    "mean(predictTest_ada$obs==predictTest_ada$pred)"
   ]
  },
  {
   "cell_type": "markdown",
   "id": "24ebe7c7",
   "metadata": {},
   "source": [
    "### Variable Importance Measures"
   ]
  },
  {
   "cell_type": "markdown",
   "id": "4dae2c43",
   "metadata": {},
   "source": [
    "- Bagging and Boosting typically results in improved accuracy over prediction using a single tree. \n",
    "\n",
    "- Unfortunately, however, it can be difficult to interpret the resulting model. Thus, aggregation improves prediction accuracy at the expense of interpretability.\n",
    "\n",
    "- Although the collection of  trees is much more difficult to interpret than a single tree, one can obtain an overall summary of the importance of each predictor using the Gini index (RSS) for classification (Regression). \n",
    "\n",
    "-  In the context of  classification trees, we can add up the total amount that the Gini index is decreased by splits over a given predictor.\n",
    "\n",
    "- A large value indicates an important predictor."
   ]
  },
  {
   "cell_type": "code",
   "execution_count": 35,
   "id": "e5bda836",
   "metadata": {},
   "outputs": [
    {
     "data": {
      "image/png": "[encoded data removed]",
      "text/plain": [
       "Plot with title “Variable relative importance”"
      ]
     },
     "metadata": {
      "image/png": {
       "height": 420,
       "width": 420
      }
     },
     "output_type": "display_data"
    }
   ],
   "source": [
    "importanceplot(class_adaboost$finalModel)"
   ]
  },
  {
   "cell_type": "code",
   "execution_count": 36,
   "id": "dc209e77",
   "metadata": {},
   "outputs": [
    {
     "data": {
      "text/html": [
       "<table class=\"dataframe\">\n",
       "<caption>A data.frame: 12 × 1</caption>\n",
       "<thead>\n",
       "\t<tr><th></th><th scope=col>class_adaboost.finalModel.importance</th></tr>\n",
       "\t<tr><th></th><th scope=col>&lt;dbl&gt;</th></tr>\n",
       "</thead>\n",
       "<tbody>\n",
       "\t<tr><th scope=row>age</th><td>15.3624574</td></tr>\n",
       "\t<tr><th scope=row>amount</th><td>30.5917092</td></tr>\n",
       "\t<tr><th scope=row>duration</th><td>19.9167929</td></tr>\n",
       "\t<tr><th scope=row>foreign.extranjero</th><td> 0.3981793</td></tr>\n",
       "\t<tr><th scope=row>history.buena</th><td>14.4814104</td></tr>\n",
       "\t<tr><th scope=row>history.mala</th><td> 3.0203393</td></tr>\n",
       "\t<tr><th scope=row>installment</th><td> 1.3686423</td></tr>\n",
       "\t<tr><th scope=row>purpose.auto_nuevo</th><td> 3.2964775</td></tr>\n",
       "\t<tr><th scope=row>purpose.auto_usado</th><td> 7.5583119</td></tr>\n",
       "\t<tr><th scope=row>purpose.bienes</th><td> 0.2755826</td></tr>\n",
       "\t<tr><th scope=row>purpose.educacion</th><td> 1.9006302</td></tr>\n",
       "\t<tr><th scope=row>rent.TRUE</th><td> 1.8294668</td></tr>\n",
       "</tbody>\n",
       "</table>\n"
      ],
      "text/latex": [
       "A data.frame: 12 × 1\n",
       "\\begin{tabular}{r|l}\n",
       "  & class\\_adaboost.finalModel.importance\\\\\n",
       "  & <dbl>\\\\\n",
       "\\hline\n",
       "\tage & 15.3624574\\\\\n",
       "\tamount & 30.5917092\\\\\n",
       "\tduration & 19.9167929\\\\\n",
       "\tforeign.extranjero &  0.3981793\\\\\n",
       "\thistory.buena & 14.4814104\\\\\n",
       "\thistory.mala &  3.0203393\\\\\n",
       "\tinstallment &  1.3686423\\\\\n",
       "\tpurpose.auto\\_nuevo &  3.2964775\\\\\n",
       "\tpurpose.auto\\_usado &  7.5583119\\\\\n",
       "\tpurpose.bienes &  0.2755826\\\\\n",
       "\tpurpose.educacion &  1.9006302\\\\\n",
       "\trent.TRUE &  1.8294668\\\\\n",
       "\\end{tabular}\n"
      ],
      "text/markdown": [
       "\n",
       "A data.frame: 12 × 1\n",
       "\n",
       "| <!--/--> | class_adaboost.finalModel.importance &lt;dbl&gt; |\n",
       "|---|---|\n",
       "| age | 15.3624574 |\n",
       "| amount | 30.5917092 |\n",
       "| duration | 19.9167929 |\n",
       "| foreign.extranjero |  0.3981793 |\n",
       "| history.buena | 14.4814104 |\n",
       "| history.mala |  3.0203393 |\n",
       "| installment |  1.3686423 |\n",
       "| purpose.auto_nuevo |  3.2964775 |\n",
       "| purpose.auto_usado |  7.5583119 |\n",
       "| purpose.bienes |  0.2755826 |\n",
       "| purpose.educacion |  1.9006302 |\n",
       "| rent.TRUE |  1.8294668 |\n",
       "\n"
      ],
      "text/plain": [
       "                   class_adaboost.finalModel.importance\n",
       "age                15.3624574                          \n",
       "amount             30.5917092                          \n",
       "duration           19.9167929                          \n",
       "foreign.extranjero  0.3981793                          \n",
       "history.buena      14.4814104                          \n",
       "history.mala        3.0203393                          \n",
       "installment         1.3686423                          \n",
       "purpose.auto_nuevo  3.2964775                          \n",
       "purpose.auto_usado  7.5583119                          \n",
       "purpose.bienes      0.2755826                          \n",
       "purpose.educacion   1.9006302                          \n",
       "rent.TRUE           1.8294668                          "
      ]
     },
     "metadata": {},
     "output_type": "display_data"
    }
   ],
   "source": [
    "data.frame(class_adaboost$finalModel$importance)"
   ]
  },
  {
   "cell_type": "markdown",
   "id": "4cd103b9",
   "metadata": {},
   "source": [
    "\n"
   ]
  }
 ],
 "metadata": {
  "jupytext": {
   "cell_metadata_filter": "tags,name,-all",
   "main_language": "R",
   "notebook_metadata_filter": "-all"
  },
  "kernelspec": {
   "display_name": "R",
   "language": "R",
   "name": "ir"
  },
  "language_info": {
   "codemirror_mode": "r",
   "file_extension": ".r",
   "mimetype": "text/x-r-source",
   "name": "R",
   "pygments_lexer": "r",
   "version": "4.3.0"
  },
  "toc": {
   "base_numbering": 1,
   "nav_menu": {},
   "number_sections": true,
   "sideBar": true,
   "skip_h1_title": false,
   "title_cell": "Table of Contents",
   "title_sidebar": "Contents",
   "toc_cell": false,
   "toc_position": {
    "height": "calc(100% - 180px)",
    "left": "10px",
    "top": "150px",
    "width": "344.4px"
   },
   "toc_section_display": true,
   "toc_window_display": false
  }
 },
 "nbformat": 4,
 "nbformat_minor": 5
}
